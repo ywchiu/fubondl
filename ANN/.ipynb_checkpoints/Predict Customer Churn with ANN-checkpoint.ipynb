{
 "cells": [
  {
   "cell_type": "markdown",
   "metadata": {},
   "source": [
    "## 读取客户流失数据"
   ]
  },
  {
   "cell_type": "code",
   "execution_count": 96,
   "metadata": {},
   "outputs": [
    {
     "data": {
      "text/html": [
       "<div>\n",
       "<style scoped>\n",
       "    .dataframe tbody tr th:only-of-type {\n",
       "        vertical-align: middle;\n",
       "    }\n",
       "\n",
       "    .dataframe tbody tr th {\n",
       "        vertical-align: top;\n",
       "    }\n",
       "\n",
       "    .dataframe thead th {\n",
       "        text-align: right;\n",
       "    }\n",
       "</style>\n",
       "<table border=\"1\" class=\"dataframe\">\n",
       "  <thead>\n",
       "    <tr style=\"text-align: right;\">\n",
       "      <th></th>\n",
       "      <th>state</th>\n",
       "      <th>account_length</th>\n",
       "      <th>area_code</th>\n",
       "      <th>international_plan</th>\n",
       "      <th>voice_mail_plan</th>\n",
       "      <th>number_vmail_messages</th>\n",
       "      <th>total_day_minutes</th>\n",
       "      <th>total_day_calls</th>\n",
       "      <th>total_day_charge</th>\n",
       "      <th>total_eve_minutes</th>\n",
       "      <th>total_eve_calls</th>\n",
       "      <th>total_eve_charge</th>\n",
       "      <th>total_night_minutes</th>\n",
       "      <th>total_night_calls</th>\n",
       "      <th>total_night_charge</th>\n",
       "      <th>total_intl_minutes</th>\n",
       "      <th>total_intl_calls</th>\n",
       "      <th>total_intl_charge</th>\n",
       "      <th>number_customer_service_calls</th>\n",
       "      <th>churn</th>\n",
       "    </tr>\n",
       "  </thead>\n",
       "  <tbody>\n",
       "    <tr>\n",
       "      <th>1</th>\n",
       "      <td>KS</td>\n",
       "      <td>128</td>\n",
       "      <td>area_code_415</td>\n",
       "      <td>no</td>\n",
       "      <td>yes</td>\n",
       "      <td>25</td>\n",
       "      <td>265.1</td>\n",
       "      <td>110</td>\n",
       "      <td>45.07</td>\n",
       "      <td>197.4</td>\n",
       "      <td>99</td>\n",
       "      <td>16.78</td>\n",
       "      <td>244.7</td>\n",
       "      <td>91</td>\n",
       "      <td>11.01</td>\n",
       "      <td>10.0</td>\n",
       "      <td>3</td>\n",
       "      <td>2.70</td>\n",
       "      <td>1</td>\n",
       "      <td>no</td>\n",
       "    </tr>\n",
       "    <tr>\n",
       "      <th>2</th>\n",
       "      <td>OH</td>\n",
       "      <td>107</td>\n",
       "      <td>area_code_415</td>\n",
       "      <td>no</td>\n",
       "      <td>yes</td>\n",
       "      <td>26</td>\n",
       "      <td>161.6</td>\n",
       "      <td>123</td>\n",
       "      <td>27.47</td>\n",
       "      <td>195.5</td>\n",
       "      <td>103</td>\n",
       "      <td>16.62</td>\n",
       "      <td>254.4</td>\n",
       "      <td>103</td>\n",
       "      <td>11.45</td>\n",
       "      <td>13.7</td>\n",
       "      <td>3</td>\n",
       "      <td>3.70</td>\n",
       "      <td>1</td>\n",
       "      <td>no</td>\n",
       "    </tr>\n",
       "    <tr>\n",
       "      <th>3</th>\n",
       "      <td>NJ</td>\n",
       "      <td>137</td>\n",
       "      <td>area_code_415</td>\n",
       "      <td>no</td>\n",
       "      <td>no</td>\n",
       "      <td>0</td>\n",
       "      <td>243.4</td>\n",
       "      <td>114</td>\n",
       "      <td>41.38</td>\n",
       "      <td>121.2</td>\n",
       "      <td>110</td>\n",
       "      <td>10.30</td>\n",
       "      <td>162.6</td>\n",
       "      <td>104</td>\n",
       "      <td>7.32</td>\n",
       "      <td>12.2</td>\n",
       "      <td>5</td>\n",
       "      <td>3.29</td>\n",
       "      <td>0</td>\n",
       "      <td>no</td>\n",
       "    </tr>\n",
       "    <tr>\n",
       "      <th>4</th>\n",
       "      <td>OH</td>\n",
       "      <td>84</td>\n",
       "      <td>area_code_408</td>\n",
       "      <td>yes</td>\n",
       "      <td>no</td>\n",
       "      <td>0</td>\n",
       "      <td>299.4</td>\n",
       "      <td>71</td>\n",
       "      <td>50.90</td>\n",
       "      <td>61.9</td>\n",
       "      <td>88</td>\n",
       "      <td>5.26</td>\n",
       "      <td>196.9</td>\n",
       "      <td>89</td>\n",
       "      <td>8.86</td>\n",
       "      <td>6.6</td>\n",
       "      <td>7</td>\n",
       "      <td>1.78</td>\n",
       "      <td>2</td>\n",
       "      <td>no</td>\n",
       "    </tr>\n",
       "    <tr>\n",
       "      <th>5</th>\n",
       "      <td>OK</td>\n",
       "      <td>75</td>\n",
       "      <td>area_code_415</td>\n",
       "      <td>yes</td>\n",
       "      <td>no</td>\n",
       "      <td>0</td>\n",
       "      <td>166.7</td>\n",
       "      <td>113</td>\n",
       "      <td>28.34</td>\n",
       "      <td>148.3</td>\n",
       "      <td>122</td>\n",
       "      <td>12.61</td>\n",
       "      <td>186.9</td>\n",
       "      <td>121</td>\n",
       "      <td>8.41</td>\n",
       "      <td>10.1</td>\n",
       "      <td>3</td>\n",
       "      <td>2.73</td>\n",
       "      <td>3</td>\n",
       "      <td>no</td>\n",
       "    </tr>\n",
       "  </tbody>\n",
       "</table>\n",
       "</div>"
      ],
      "text/plain": [
       "  state  account_length      area_code international_plan voice_mail_plan  \\\n",
       "1    KS             128  area_code_415                 no             yes   \n",
       "2    OH             107  area_code_415                 no             yes   \n",
       "3    NJ             137  area_code_415                 no              no   \n",
       "4    OH              84  area_code_408                yes              no   \n",
       "5    OK              75  area_code_415                yes              no   \n",
       "\n",
       "   number_vmail_messages  total_day_minutes  total_day_calls  \\\n",
       "1                     25              265.1              110   \n",
       "2                     26              161.6              123   \n",
       "3                      0              243.4              114   \n",
       "4                      0              299.4               71   \n",
       "5                      0              166.7              113   \n",
       "\n",
       "   total_day_charge  total_eve_minutes  total_eve_calls  total_eve_charge  \\\n",
       "1             45.07              197.4               99             16.78   \n",
       "2             27.47              195.5              103             16.62   \n",
       "3             41.38              121.2              110             10.30   \n",
       "4             50.90               61.9               88              5.26   \n",
       "5             28.34              148.3              122             12.61   \n",
       "\n",
       "   total_night_minutes  total_night_calls  total_night_charge  \\\n",
       "1                244.7                 91               11.01   \n",
       "2                254.4                103               11.45   \n",
       "3                162.6                104                7.32   \n",
       "4                196.9                 89                8.86   \n",
       "5                186.9                121                8.41   \n",
       "\n",
       "   total_intl_minutes  total_intl_calls  total_intl_charge  \\\n",
       "1                10.0                 3               2.70   \n",
       "2                13.7                 3               3.70   \n",
       "3                12.2                 5               3.29   \n",
       "4                 6.6                 7               1.78   \n",
       "5                10.1                 3               2.73   \n",
       "\n",
       "   number_customer_service_calls churn  \n",
       "1                              1    no  \n",
       "2                              1    no  \n",
       "3                              0    no  \n",
       "4                              2    no  \n",
       "5                              3    no  "
      ]
     },
     "execution_count": 96,
     "metadata": {},
     "output_type": "execute_result"
    }
   ],
   "source": [
    "import pandas\n",
    "df = pandas.read_csv('../data/customer_churn.csv', index_col=0, header = 0)\n",
    "df.head()"
   ]
  },
  {
   "cell_type": "markdown",
   "metadata": {},
   "source": [
    "## 数据前处理"
   ]
  },
  {
   "cell_type": "code",
   "execution_count": 97,
   "metadata": {},
   "outputs": [
    {
     "data": {
      "text/plain": [
       "Index(['state', 'account_length', 'area_code', 'international_plan',\n",
       "       'voice_mail_plan', 'number_vmail_messages', 'total_day_minutes',\n",
       "       'total_day_calls', 'total_day_charge', 'total_eve_minutes',\n",
       "       'total_eve_calls', 'total_eve_charge', 'total_night_minutes',\n",
       "       'total_night_calls', 'total_night_charge', 'total_intl_minutes',\n",
       "       'total_intl_calls', 'total_intl_charge',\n",
       "       'number_customer_service_calls', 'churn'],\n",
       "      dtype='object')"
      ]
     },
     "execution_count": 97,
     "metadata": {},
     "output_type": "execute_result"
    }
   ],
   "source": [
    "df.columns"
   ]
  },
  {
   "cell_type": "code",
   "execution_count": 100,
   "metadata": {},
   "outputs": [],
   "source": [
    "#df.iloc[:,3:]"
   ]
  },
  {
   "cell_type": "code",
   "execution_count": 101,
   "metadata": {},
   "outputs": [],
   "source": [
    "df = df.iloc[:,3:]"
   ]
  },
  {
   "cell_type": "code",
   "execution_count": 102,
   "metadata": {},
   "outputs": [
    {
     "data": {
      "text/html": [
       "<div>\n",
       "<style scoped>\n",
       "    .dataframe tbody tr th:only-of-type {\n",
       "        vertical-align: middle;\n",
       "    }\n",
       "\n",
       "    .dataframe tbody tr th {\n",
       "        vertical-align: top;\n",
       "    }\n",
       "\n",
       "    .dataframe thead th {\n",
       "        text-align: right;\n",
       "    }\n",
       "</style>\n",
       "<table border=\"1\" class=\"dataframe\">\n",
       "  <thead>\n",
       "    <tr style=\"text-align: right;\">\n",
       "      <th></th>\n",
       "      <th>international_plan</th>\n",
       "      <th>voice_mail_plan</th>\n",
       "      <th>number_vmail_messages</th>\n",
       "      <th>total_day_minutes</th>\n",
       "      <th>total_day_calls</th>\n",
       "      <th>total_day_charge</th>\n",
       "      <th>total_eve_minutes</th>\n",
       "      <th>total_eve_calls</th>\n",
       "      <th>total_eve_charge</th>\n",
       "      <th>total_night_minutes</th>\n",
       "      <th>total_night_calls</th>\n",
       "      <th>total_night_charge</th>\n",
       "      <th>total_intl_minutes</th>\n",
       "      <th>total_intl_calls</th>\n",
       "      <th>total_intl_charge</th>\n",
       "      <th>number_customer_service_calls</th>\n",
       "      <th>churn</th>\n",
       "    </tr>\n",
       "  </thead>\n",
       "  <tbody>\n",
       "    <tr>\n",
       "      <th>1</th>\n",
       "      <td>no</td>\n",
       "      <td>yes</td>\n",
       "      <td>25</td>\n",
       "      <td>265.1</td>\n",
       "      <td>110</td>\n",
       "      <td>45.07</td>\n",
       "      <td>197.4</td>\n",
       "      <td>99</td>\n",
       "      <td>16.78</td>\n",
       "      <td>244.7</td>\n",
       "      <td>91</td>\n",
       "      <td>11.01</td>\n",
       "      <td>10.0</td>\n",
       "      <td>3</td>\n",
       "      <td>2.70</td>\n",
       "      <td>1</td>\n",
       "      <td>no</td>\n",
       "    </tr>\n",
       "    <tr>\n",
       "      <th>2</th>\n",
       "      <td>no</td>\n",
       "      <td>yes</td>\n",
       "      <td>26</td>\n",
       "      <td>161.6</td>\n",
       "      <td>123</td>\n",
       "      <td>27.47</td>\n",
       "      <td>195.5</td>\n",
       "      <td>103</td>\n",
       "      <td>16.62</td>\n",
       "      <td>254.4</td>\n",
       "      <td>103</td>\n",
       "      <td>11.45</td>\n",
       "      <td>13.7</td>\n",
       "      <td>3</td>\n",
       "      <td>3.70</td>\n",
       "      <td>1</td>\n",
       "      <td>no</td>\n",
       "    </tr>\n",
       "    <tr>\n",
       "      <th>3</th>\n",
       "      <td>no</td>\n",
       "      <td>no</td>\n",
       "      <td>0</td>\n",
       "      <td>243.4</td>\n",
       "      <td>114</td>\n",
       "      <td>41.38</td>\n",
       "      <td>121.2</td>\n",
       "      <td>110</td>\n",
       "      <td>10.30</td>\n",
       "      <td>162.6</td>\n",
       "      <td>104</td>\n",
       "      <td>7.32</td>\n",
       "      <td>12.2</td>\n",
       "      <td>5</td>\n",
       "      <td>3.29</td>\n",
       "      <td>0</td>\n",
       "      <td>no</td>\n",
       "    </tr>\n",
       "    <tr>\n",
       "      <th>4</th>\n",
       "      <td>yes</td>\n",
       "      <td>no</td>\n",
       "      <td>0</td>\n",
       "      <td>299.4</td>\n",
       "      <td>71</td>\n",
       "      <td>50.90</td>\n",
       "      <td>61.9</td>\n",
       "      <td>88</td>\n",
       "      <td>5.26</td>\n",
       "      <td>196.9</td>\n",
       "      <td>89</td>\n",
       "      <td>8.86</td>\n",
       "      <td>6.6</td>\n",
       "      <td>7</td>\n",
       "      <td>1.78</td>\n",
       "      <td>2</td>\n",
       "      <td>no</td>\n",
       "    </tr>\n",
       "    <tr>\n",
       "      <th>5</th>\n",
       "      <td>yes</td>\n",
       "      <td>no</td>\n",
       "      <td>0</td>\n",
       "      <td>166.7</td>\n",
       "      <td>113</td>\n",
       "      <td>28.34</td>\n",
       "      <td>148.3</td>\n",
       "      <td>122</td>\n",
       "      <td>12.61</td>\n",
       "      <td>186.9</td>\n",
       "      <td>121</td>\n",
       "      <td>8.41</td>\n",
       "      <td>10.1</td>\n",
       "      <td>3</td>\n",
       "      <td>2.73</td>\n",
       "      <td>3</td>\n",
       "      <td>no</td>\n",
       "    </tr>\n",
       "  </tbody>\n",
       "</table>\n",
       "</div>"
      ],
      "text/plain": [
       "  international_plan voice_mail_plan  number_vmail_messages  \\\n",
       "1                 no             yes                     25   \n",
       "2                 no             yes                     26   \n",
       "3                 no              no                      0   \n",
       "4                yes              no                      0   \n",
       "5                yes              no                      0   \n",
       "\n",
       "   total_day_minutes  total_day_calls  total_day_charge  total_eve_minutes  \\\n",
       "1              265.1              110             45.07              197.4   \n",
       "2              161.6              123             27.47              195.5   \n",
       "3              243.4              114             41.38              121.2   \n",
       "4              299.4               71             50.90               61.9   \n",
       "5              166.7              113             28.34              148.3   \n",
       "\n",
       "   total_eve_calls  total_eve_charge  total_night_minutes  total_night_calls  \\\n",
       "1               99             16.78                244.7                 91   \n",
       "2              103             16.62                254.4                103   \n",
       "3              110             10.30                162.6                104   \n",
       "4               88              5.26                196.9                 89   \n",
       "5              122             12.61                186.9                121   \n",
       "\n",
       "   total_night_charge  total_intl_minutes  total_intl_calls  \\\n",
       "1               11.01                10.0                 3   \n",
       "2               11.45                13.7                 3   \n",
       "3                7.32                12.2                 5   \n",
       "4                8.86                 6.6                 7   \n",
       "5                8.41                10.1                 3   \n",
       "\n",
       "   total_intl_charge  number_customer_service_calls churn  \n",
       "1               2.70                              1    no  \n",
       "2               3.70                              1    no  \n",
       "3               3.29                              0    no  \n",
       "4               1.78                              2    no  \n",
       "5               2.73                              3    no  "
      ]
     },
     "execution_count": 102,
     "metadata": {},
     "output_type": "execute_result"
    }
   ],
   "source": [
    "df.head()"
   ]
  },
  {
   "cell_type": "code",
   "execution_count": 103,
   "metadata": {},
   "outputs": [],
   "source": [
    "cat_var = ['international_plan','voice_mail_plan', 'churn']\n",
    "\n",
    "for var in cat_var:\n",
    "    df[var] = df[var].map(lambda e: 1 if e == 'yes' else 0)"
   ]
  },
  {
   "cell_type": "code",
   "execution_count": 104,
   "metadata": {},
   "outputs": [
    {
     "data": {
      "text/html": [
       "<div>\n",
       "<style scoped>\n",
       "    .dataframe tbody tr th:only-of-type {\n",
       "        vertical-align: middle;\n",
       "    }\n",
       "\n",
       "    .dataframe tbody tr th {\n",
       "        vertical-align: top;\n",
       "    }\n",
       "\n",
       "    .dataframe thead th {\n",
       "        text-align: right;\n",
       "    }\n",
       "</style>\n",
       "<table border=\"1\" class=\"dataframe\">\n",
       "  <thead>\n",
       "    <tr style=\"text-align: right;\">\n",
       "      <th></th>\n",
       "      <th>international_plan</th>\n",
       "      <th>voice_mail_plan</th>\n",
       "      <th>number_vmail_messages</th>\n",
       "      <th>total_day_minutes</th>\n",
       "      <th>total_day_calls</th>\n",
       "      <th>total_day_charge</th>\n",
       "      <th>total_eve_minutes</th>\n",
       "      <th>total_eve_calls</th>\n",
       "      <th>total_eve_charge</th>\n",
       "      <th>total_night_minutes</th>\n",
       "      <th>total_night_calls</th>\n",
       "      <th>total_night_charge</th>\n",
       "      <th>total_intl_minutes</th>\n",
       "      <th>total_intl_calls</th>\n",
       "      <th>total_intl_charge</th>\n",
       "      <th>number_customer_service_calls</th>\n",
       "      <th>churn</th>\n",
       "    </tr>\n",
       "  </thead>\n",
       "  <tbody>\n",
       "    <tr>\n",
       "      <th>1</th>\n",
       "      <td>0</td>\n",
       "      <td>1</td>\n",
       "      <td>25</td>\n",
       "      <td>265.1</td>\n",
       "      <td>110</td>\n",
       "      <td>45.07</td>\n",
       "      <td>197.4</td>\n",
       "      <td>99</td>\n",
       "      <td>16.78</td>\n",
       "      <td>244.7</td>\n",
       "      <td>91</td>\n",
       "      <td>11.01</td>\n",
       "      <td>10.0</td>\n",
       "      <td>3</td>\n",
       "      <td>2.70</td>\n",
       "      <td>1</td>\n",
       "      <td>0</td>\n",
       "    </tr>\n",
       "    <tr>\n",
       "      <th>2</th>\n",
       "      <td>0</td>\n",
       "      <td>1</td>\n",
       "      <td>26</td>\n",
       "      <td>161.6</td>\n",
       "      <td>123</td>\n",
       "      <td>27.47</td>\n",
       "      <td>195.5</td>\n",
       "      <td>103</td>\n",
       "      <td>16.62</td>\n",
       "      <td>254.4</td>\n",
       "      <td>103</td>\n",
       "      <td>11.45</td>\n",
       "      <td>13.7</td>\n",
       "      <td>3</td>\n",
       "      <td>3.70</td>\n",
       "      <td>1</td>\n",
       "      <td>0</td>\n",
       "    </tr>\n",
       "    <tr>\n",
       "      <th>3</th>\n",
       "      <td>0</td>\n",
       "      <td>0</td>\n",
       "      <td>0</td>\n",
       "      <td>243.4</td>\n",
       "      <td>114</td>\n",
       "      <td>41.38</td>\n",
       "      <td>121.2</td>\n",
       "      <td>110</td>\n",
       "      <td>10.30</td>\n",
       "      <td>162.6</td>\n",
       "      <td>104</td>\n",
       "      <td>7.32</td>\n",
       "      <td>12.2</td>\n",
       "      <td>5</td>\n",
       "      <td>3.29</td>\n",
       "      <td>0</td>\n",
       "      <td>0</td>\n",
       "    </tr>\n",
       "    <tr>\n",
       "      <th>4</th>\n",
       "      <td>1</td>\n",
       "      <td>0</td>\n",
       "      <td>0</td>\n",
       "      <td>299.4</td>\n",
       "      <td>71</td>\n",
       "      <td>50.90</td>\n",
       "      <td>61.9</td>\n",
       "      <td>88</td>\n",
       "      <td>5.26</td>\n",
       "      <td>196.9</td>\n",
       "      <td>89</td>\n",
       "      <td>8.86</td>\n",
       "      <td>6.6</td>\n",
       "      <td>7</td>\n",
       "      <td>1.78</td>\n",
       "      <td>2</td>\n",
       "      <td>0</td>\n",
       "    </tr>\n",
       "    <tr>\n",
       "      <th>5</th>\n",
       "      <td>1</td>\n",
       "      <td>0</td>\n",
       "      <td>0</td>\n",
       "      <td>166.7</td>\n",
       "      <td>113</td>\n",
       "      <td>28.34</td>\n",
       "      <td>148.3</td>\n",
       "      <td>122</td>\n",
       "      <td>12.61</td>\n",
       "      <td>186.9</td>\n",
       "      <td>121</td>\n",
       "      <td>8.41</td>\n",
       "      <td>10.1</td>\n",
       "      <td>3</td>\n",
       "      <td>2.73</td>\n",
       "      <td>3</td>\n",
       "      <td>0</td>\n",
       "    </tr>\n",
       "  </tbody>\n",
       "</table>\n",
       "</div>"
      ],
      "text/plain": [
       "   international_plan  voice_mail_plan  number_vmail_messages  \\\n",
       "1                   0                1                     25   \n",
       "2                   0                1                     26   \n",
       "3                   0                0                      0   \n",
       "4                   1                0                      0   \n",
       "5                   1                0                      0   \n",
       "\n",
       "   total_day_minutes  total_day_calls  total_day_charge  total_eve_minutes  \\\n",
       "1              265.1              110             45.07              197.4   \n",
       "2              161.6              123             27.47              195.5   \n",
       "3              243.4              114             41.38              121.2   \n",
       "4              299.4               71             50.90               61.9   \n",
       "5              166.7              113             28.34              148.3   \n",
       "\n",
       "   total_eve_calls  total_eve_charge  total_night_minutes  total_night_calls  \\\n",
       "1               99             16.78                244.7                 91   \n",
       "2              103             16.62                254.4                103   \n",
       "3              110             10.30                162.6                104   \n",
       "4               88              5.26                196.9                 89   \n",
       "5              122             12.61                186.9                121   \n",
       "\n",
       "   total_night_charge  total_intl_minutes  total_intl_calls  \\\n",
       "1               11.01                10.0                 3   \n",
       "2               11.45                13.7                 3   \n",
       "3                7.32                12.2                 5   \n",
       "4                8.86                 6.6                 7   \n",
       "5                8.41                10.1                 3   \n",
       "\n",
       "   total_intl_charge  number_customer_service_calls  churn  \n",
       "1               2.70                              1      0  \n",
       "2               3.70                              1      0  \n",
       "3               3.29                              0      0  \n",
       "4               1.78                              2      0  \n",
       "5               2.73                              3      0  "
      ]
     },
     "execution_count": 104,
     "metadata": {},
     "output_type": "execute_result"
    }
   ],
   "source": [
    "df.head()"
   ]
  },
  {
   "cell_type": "code",
   "execution_count": 105,
   "metadata": {},
   "outputs": [
    {
     "name": "stdout",
     "output_type": "stream",
     "text": [
      "<class 'pandas.core.frame.DataFrame'>\n",
      "Int64Index: 3333 entries, 1 to 3333\n",
      "Data columns (total 17 columns):\n",
      "international_plan               3333 non-null int64\n",
      "voice_mail_plan                  3333 non-null int64\n",
      "number_vmail_messages            3333 non-null int64\n",
      "total_day_minutes                3333 non-null float64\n",
      "total_day_calls                  3333 non-null int64\n",
      "total_day_charge                 3333 non-null float64\n",
      "total_eve_minutes                3333 non-null float64\n",
      "total_eve_calls                  3333 non-null int64\n",
      "total_eve_charge                 3333 non-null float64\n",
      "total_night_minutes              3333 non-null float64\n",
      "total_night_calls                3333 non-null int64\n",
      "total_night_charge               3333 non-null float64\n",
      "total_intl_minutes               3333 non-null float64\n",
      "total_intl_calls                 3333 non-null int64\n",
      "total_intl_charge                3333 non-null float64\n",
      "number_customer_service_calls    3333 non-null int64\n",
      "churn                            3333 non-null int64\n",
      "dtypes: float64(8), int64(9)\n",
      "memory usage: 468.7 KB\n"
     ]
    }
   ],
   "source": [
    "df.info()"
   ]
  },
  {
   "cell_type": "code",
   "execution_count": 106,
   "metadata": {},
   "outputs": [],
   "source": [
    "y = df.iloc[:,-1]\n",
    "x = df.iloc[:,:-1]"
   ]
  },
  {
   "cell_type": "code",
   "execution_count": 109,
   "metadata": {},
   "outputs": [
    {
     "data": {
      "text/plain": [
       "(3333, 16)"
      ]
     },
     "execution_count": 109,
     "metadata": {},
     "output_type": "execute_result"
    }
   ],
   "source": [
    "x.shape"
   ]
  },
  {
   "cell_type": "code",
   "execution_count": 110,
   "metadata": {},
   "outputs": [
    {
     "data": {
      "text/plain": [
       "(3333,)"
      ]
     },
     "execution_count": 110,
     "metadata": {},
     "output_type": "execute_result"
    }
   ],
   "source": [
    "y.shape"
   ]
  },
  {
   "cell_type": "markdown",
   "metadata": {},
   "source": [
    "## 区分训练与测试数据集"
   ]
  },
  {
   "cell_type": "code",
   "execution_count": 111,
   "metadata": {},
   "outputs": [],
   "source": [
    "from sklearn.model_selection import train_test_split\n",
    "x_train, x_test, y_train, y_test = train_test_split(x, y, test_size = 0.33, random_state = 123)"
   ]
  },
  {
   "cell_type": "code",
   "execution_count": 112,
   "metadata": {},
   "outputs": [
    {
     "data": {
      "text/plain": [
       "(2233, 16)"
      ]
     },
     "execution_count": 112,
     "metadata": {},
     "output_type": "execute_result"
    }
   ],
   "source": [
    "x_train.shape"
   ]
  },
  {
   "cell_type": "code",
   "execution_count": 113,
   "metadata": {},
   "outputs": [
    {
     "data": {
      "text/plain": [
       "(2233,)"
      ]
     },
     "execution_count": 113,
     "metadata": {},
     "output_type": "execute_result"
    }
   ],
   "source": [
    "y_train.shape"
   ]
  },
  {
   "cell_type": "code",
   "execution_count": 114,
   "metadata": {},
   "outputs": [
    {
     "data": {
      "text/plain": [
       "(1100, 16)"
      ]
     },
     "execution_count": 114,
     "metadata": {},
     "output_type": "execute_result"
    }
   ],
   "source": [
    "x_test.shape"
   ]
  },
  {
   "cell_type": "code",
   "execution_count": 115,
   "metadata": {},
   "outputs": [
    {
     "data": {
      "text/plain": [
       "(1100,)"
      ]
     },
     "execution_count": 115,
     "metadata": {},
     "output_type": "execute_result"
    }
   ],
   "source": [
    "y_test.shape"
   ]
  },
  {
   "cell_type": "markdown",
   "metadata": {},
   "source": [
    "## 尺度标准化"
   ]
  },
  {
   "cell_type": "code",
   "execution_count": 116,
   "metadata": {},
   "outputs": [],
   "source": [
    "from sklearn.preprocessing import StandardScaler\n",
    "sc = StandardScaler()\n",
    "x_train = sc.fit_transform(x_train)\n",
    "x_test = sc.fit_transform(x_test)"
   ]
  },
  {
   "cell_type": "code",
   "execution_count": 119,
   "metadata": {},
   "outputs": [],
   "source": [
    "#x_test"
   ]
  },
  {
   "cell_type": "markdown",
   "metadata": {},
   "source": [
    "## 训练ANN"
   ]
  },
  {
   "cell_type": "code",
   "execution_count": 120,
   "metadata": {},
   "outputs": [],
   "source": [
    "import keras\n",
    "from keras.models import Sequential\n",
    "from keras.layers import Dense\n",
    "from keras.optimizers import SGD"
   ]
  },
  {
   "cell_type": "code",
   "execution_count": 146,
   "metadata": {},
   "outputs": [],
   "source": [
    "classifier = Sequential()"
   ]
  },
  {
   "cell_type": "code",
   "execution_count": 147,
   "metadata": {},
   "outputs": [],
   "source": [
    "classifier.add(Dense(units = 8, kernel_initializer = 'uniform', activation = 'relu', input_dim = 16))\n",
    "classifier.add(Dense(units = 1, kernel_initializer = 'uniform', activation = 'sigmoid'))"
   ]
  },
  {
   "cell_type": "code",
   "execution_count": 148,
   "metadata": {
    "collapsed": true
   },
   "outputs": [
    {
     "name": "stdout",
     "output_type": "stream",
     "text": [
      "Train on 2233 samples, validate on 1100 samples\n",
      "Epoch 1/100\n",
      "2233/2233 [==============================] - 1s 338us/step - loss: 0.5953 - acc: 0.8455 - val_loss: 0.5177 - val_acc: 0.8636\n",
      "Epoch 2/100\n",
      "2233/2233 [==============================] - 0s 162us/step - loss: 0.4910 - acc: 0.8509 - val_loss: 0.4528 - val_acc: 0.8636\n",
      "Epoch 3/100\n",
      "2233/2233 [==============================] - 0s 163us/step - loss: 0.4519 - acc: 0.8509 - val_loss: 0.4260 - val_acc: 0.8636\n",
      "Epoch 4/100\n",
      "2233/2233 [==============================] - 0s 170us/step - loss: 0.4353 - acc: 0.8509 - val_loss: 0.4128 - val_acc: 0.8636\n",
      "Epoch 5/100\n",
      "2233/2233 [==============================] - 0s 173us/step - loss: 0.4271 - acc: 0.8509 - val_loss: 0.4053 - val_acc: 0.8636\n",
      "Epoch 6/100\n",
      "2233/2233 [==============================] - 0s 163us/step - loss: 0.4224 - acc: 0.8509 - val_loss: 0.4005 - val_acc: 0.8636\n",
      "Epoch 7/100\n",
      "2233/2233 [==============================] - 0s 169us/step - loss: 0.4191 - acc: 0.8509 - val_loss: 0.3969 - val_acc: 0.8636\n",
      "Epoch 8/100\n",
      "2233/2233 [==============================] - 0s 162us/step - loss: 0.4163 - acc: 0.8509 - val_loss: 0.3933 - val_acc: 0.8636\n",
      "Epoch 9/100\n",
      "2233/2233 [==============================] - 0s 165us/step - loss: 0.4131 - acc: 0.8509 - val_loss: 0.3894 - val_acc: 0.8636\n",
      "Epoch 10/100\n",
      "2233/2233 [==============================] - 0s 165us/step - loss: 0.4092 - acc: 0.8509 - val_loss: 0.3844 - val_acc: 0.8636\n",
      "Epoch 11/100\n",
      "2233/2233 [==============================] - 0s 159us/step - loss: 0.4041 - acc: 0.8509 - val_loss: 0.3780 - val_acc: 0.8636\n",
      "Epoch 12/100\n",
      "2233/2233 [==============================] - 0s 163us/step - loss: 0.3974 - acc: 0.8509 - val_loss: 0.3698 - val_acc: 0.8636\n",
      "Epoch 13/100\n",
      "2233/2233 [==============================] - 0s 165us/step - loss: 0.3887 - acc: 0.8509 - val_loss: 0.3596 - val_acc: 0.8636\n",
      "Epoch 14/100\n",
      "2233/2233 [==============================] - 0s 167us/step - loss: 0.3780 - acc: 0.8509 - val_loss: 0.3473 - val_acc: 0.8636\n",
      "Epoch 15/100\n",
      "2233/2233 [==============================] - 0s 161us/step - loss: 0.3656 - acc: 0.8509 - val_loss: 0.3336 - val_acc: 0.8636\n",
      "Epoch 16/100\n",
      "2233/2233 [==============================] - 0s 163us/step - loss: 0.3527 - acc: 0.8513 - val_loss: 0.3198 - val_acc: 0.8655\n",
      "Epoch 17/100\n",
      "2233/2233 [==============================] - 0s 164us/step - loss: 0.3405 - acc: 0.8536 - val_loss: 0.3080 - val_acc: 0.8718\n",
      "Epoch 18/100\n",
      "2233/2233 [==============================] - 0s 164us/step - loss: 0.3300 - acc: 0.8567 - val_loss: 0.2983 - val_acc: 0.8773\n",
      "Epoch 19/100\n",
      "2233/2233 [==============================] - 0s 166us/step - loss: 0.3209 - acc: 0.8634 - val_loss: 0.2900 - val_acc: 0.8836\n",
      "Epoch 20/100\n",
      "2233/2233 [==============================] - 0s 171us/step - loss: 0.3128 - acc: 0.8665 - val_loss: 0.2830 - val_acc: 0.8818\n",
      "Epoch 21/100\n",
      "2233/2233 [==============================] - 0s 163us/step - loss: 0.3051 - acc: 0.8710 - val_loss: 0.2764 - val_acc: 0.8845\n",
      "Epoch 22/100\n",
      "2233/2233 [==============================] - 0s 165us/step - loss: 0.2974 - acc: 0.8742 - val_loss: 0.2699 - val_acc: 0.8864\n",
      "Epoch 23/100\n",
      "2233/2233 [==============================] - 0s 164us/step - loss: 0.2898 - acc: 0.8786 - val_loss: 0.2640 - val_acc: 0.8909\n",
      "Epoch 24/100\n",
      "2233/2233 [==============================] - 0s 172us/step - loss: 0.2822 - acc: 0.8836 - val_loss: 0.2585 - val_acc: 0.9000\n",
      "Epoch 25/100\n",
      "2233/2233 [==============================] - 0s 161us/step - loss: 0.2752 - acc: 0.8939 - val_loss: 0.2533 - val_acc: 0.9036\n",
      "Epoch 26/100\n",
      "2233/2233 [==============================] - 0s 161us/step - loss: 0.2690 - acc: 0.9006 - val_loss: 0.2485 - val_acc: 0.9045\n",
      "Epoch 27/100\n",
      "2233/2233 [==============================] - 0s 165us/step - loss: 0.2637 - acc: 0.9024 - val_loss: 0.2447 - val_acc: 0.9045\n",
      "Epoch 28/100\n",
      "2233/2233 [==============================] - 0s 162us/step - loss: 0.2592 - acc: 0.9042 - val_loss: 0.2412 - val_acc: 0.9073\n",
      "Epoch 29/100\n",
      "2233/2233 [==============================] - 0s 167us/step - loss: 0.2550 - acc: 0.9064 - val_loss: 0.2382 - val_acc: 0.9118\n",
      "Epoch 30/100\n",
      "2233/2233 [==============================] - 0s 168us/step - loss: 0.2514 - acc: 0.9069 - val_loss: 0.2360 - val_acc: 0.9173\n",
      "Epoch 31/100\n",
      "2233/2233 [==============================] - 0s 165us/step - loss: 0.2482 - acc: 0.9131 - val_loss: 0.2337 - val_acc: 0.9155\n",
      "Epoch 32/100\n",
      "2233/2233 [==============================] - 0s 164us/step - loss: 0.2455 - acc: 0.9109 - val_loss: 0.2321 - val_acc: 0.9191\n",
      "Epoch 33/100\n",
      "2233/2233 [==============================] - 0s 165us/step - loss: 0.2429 - acc: 0.9136 - val_loss: 0.2307 - val_acc: 0.9245\n",
      "Epoch 34/100\n",
      "2233/2233 [==============================] - 0s 172us/step - loss: 0.2407 - acc: 0.9172 - val_loss: 0.2288 - val_acc: 0.9191\n",
      "Epoch 35/100\n",
      "2233/2233 [==============================] - 0s 181us/step - loss: 0.2388 - acc: 0.9149 - val_loss: 0.2278 - val_acc: 0.9209\n",
      "Epoch 36/100\n",
      "2233/2233 [==============================] - 0s 152us/step - loss: 0.2369 - acc: 0.9172 - val_loss: 0.2275 - val_acc: 0.9218\n",
      "Epoch 37/100\n",
      "2233/2233 [==============================] - 0s 155us/step - loss: 0.2354 - acc: 0.9189 - val_loss: 0.2266 - val_acc: 0.9255\n",
      "Epoch 38/100\n",
      "2233/2233 [==============================] - 0s 156us/step - loss: 0.2339 - acc: 0.9216 - val_loss: 0.2258 - val_acc: 0.9255\n",
      "Epoch 39/100\n",
      "2233/2233 [==============================] - 0s 157us/step - loss: 0.2326 - acc: 0.9221 - val_loss: 0.2256 - val_acc: 0.9255\n",
      "Epoch 40/100\n",
      "2233/2233 [==============================] - 0s 168us/step - loss: 0.2314 - acc: 0.9221 - val_loss: 0.2256 - val_acc: 0.9236\n",
      "Epoch 41/100\n",
      "2233/2233 [==============================] - 0s 161us/step - loss: 0.2303 - acc: 0.9248 - val_loss: 0.2253 - val_acc: 0.9227\n",
      "Epoch 42/100\n",
      "2233/2233 [==============================] - 0s 165us/step - loss: 0.2293 - acc: 0.9234 - val_loss: 0.2251 - val_acc: 0.9227\n",
      "Epoch 43/100\n",
      "2233/2233 [==============================] - 0s 161us/step - loss: 0.2282 - acc: 0.9252 - val_loss: 0.2242 - val_acc: 0.9255\n",
      "Epoch 44/100\n",
      "2233/2233 [==============================] - 0s 170us/step - loss: 0.2273 - acc: 0.9252 - val_loss: 0.2238 - val_acc: 0.9236\n",
      "Epoch 45/100\n",
      "2233/2233 [==============================] - 0s 165us/step - loss: 0.2265 - acc: 0.9243 - val_loss: 0.2237 - val_acc: 0.9245\n",
      "Epoch 46/100\n",
      "2233/2233 [==============================] - 0s 167us/step - loss: 0.2259 - acc: 0.9279 - val_loss: 0.2229 - val_acc: 0.9255\n",
      "Epoch 47/100\n",
      "2233/2233 [==============================] - 0s 164us/step - loss: 0.2251 - acc: 0.9270 - val_loss: 0.2231 - val_acc: 0.9245\n",
      "Epoch 48/100\n",
      "2233/2233 [==============================] - 0s 172us/step - loss: 0.2243 - acc: 0.9252 - val_loss: 0.2242 - val_acc: 0.9227\n",
      "Epoch 49/100\n",
      "2233/2233 [==============================] - 0s 163us/step - loss: 0.2238 - acc: 0.9279 - val_loss: 0.2235 - val_acc: 0.9255\n",
      "Epoch 50/100\n",
      "2233/2233 [==============================] - 0s 146us/step - loss: 0.2232 - acc: 0.9275 - val_loss: 0.2239 - val_acc: 0.9227\n",
      "Epoch 51/100\n",
      "2233/2233 [==============================] - 0s 159us/step - loss: 0.2225 - acc: 0.9270 - val_loss: 0.2236 - val_acc: 0.9227\n",
      "Epoch 52/100\n",
      "2233/2233 [==============================] - 0s 168us/step - loss: 0.2218 - acc: 0.9292 - val_loss: 0.2231 - val_acc: 0.9245\n",
      "Epoch 53/100\n",
      "2233/2233 [==============================] - 0s 166us/step - loss: 0.2213 - acc: 0.9292 - val_loss: 0.2229 - val_acc: 0.9236\n",
      "Epoch 54/100\n",
      "2233/2233 [==============================] - 0s 163us/step - loss: 0.2209 - acc: 0.9301 - val_loss: 0.2228 - val_acc: 0.9236\n",
      "Epoch 55/100\n",
      "2233/2233 [==============================] - 0s 166us/step - loss: 0.2202 - acc: 0.9315 - val_loss: 0.2229 - val_acc: 0.9236\n",
      "Epoch 56/100\n",
      "2233/2233 [==============================] - 0s 168us/step - loss: 0.2197 - acc: 0.9310 - val_loss: 0.2230 - val_acc: 0.9218\n",
      "Epoch 57/100\n",
      "2233/2233 [==============================] - 0s 178us/step - loss: 0.2194 - acc: 0.9301 - val_loss: 0.2225 - val_acc: 0.9236\n",
      "Epoch 58/100\n",
      "2233/2233 [==============================] - 0s 165us/step - loss: 0.2189 - acc: 0.9310 - val_loss: 0.2222 - val_acc: 0.9245\n",
      "Epoch 59/100\n",
      "2233/2233 [==============================] - 0s 168us/step - loss: 0.2184 - acc: 0.9301 - val_loss: 0.2219 - val_acc: 0.9236\n",
      "Epoch 60/100\n"
     ]
    },
    {
     "name": "stdout",
     "output_type": "stream",
     "text": [
      "2233/2233 [==============================] - 0s 169us/step - loss: 0.2178 - acc: 0.9324 - val_loss: 0.2219 - val_acc: 0.9236\n",
      "Epoch 61/100\n",
      "2233/2233 [==============================] - 0s 157us/step - loss: 0.2176 - acc: 0.9319 - val_loss: 0.2214 - val_acc: 0.9227\n",
      "Epoch 62/100\n",
      "2233/2233 [==============================] - 0s 159us/step - loss: 0.2173 - acc: 0.9324 - val_loss: 0.2215 - val_acc: 0.9236\n",
      "Epoch 63/100\n",
      "2233/2233 [==============================] - 0s 158us/step - loss: 0.2166 - acc: 0.9315 - val_loss: 0.2222 - val_acc: 0.9255\n",
      "Epoch 64/100\n",
      "2233/2233 [==============================] - 0s 162us/step - loss: 0.2163 - acc: 0.9333 - val_loss: 0.2215 - val_acc: 0.9245\n",
      "Epoch 65/100\n",
      "2233/2233 [==============================] - 0s 159us/step - loss: 0.2160 - acc: 0.9328 - val_loss: 0.2212 - val_acc: 0.9264\n",
      "Epoch 66/100\n",
      "2233/2233 [==============================] - 0s 158us/step - loss: 0.2156 - acc: 0.9319 - val_loss: 0.2211 - val_acc: 0.9264\n",
      "Epoch 67/100\n",
      "2233/2233 [==============================] - 0s 157us/step - loss: 0.2152 - acc: 0.9342 - val_loss: 0.2214 - val_acc: 0.9245\n",
      "Epoch 68/100\n",
      "2233/2233 [==============================] - 0s 156us/step - loss: 0.2149 - acc: 0.9337 - val_loss: 0.2221 - val_acc: 0.9273\n",
      "Epoch 69/100\n",
      "2233/2233 [==============================] - 0s 162us/step - loss: 0.2149 - acc: 0.9333 - val_loss: 0.2213 - val_acc: 0.9273\n",
      "Epoch 70/100\n",
      "2233/2233 [==============================] - 0s 160us/step - loss: 0.2146 - acc: 0.9337 - val_loss: 0.2209 - val_acc: 0.9282\n",
      "Epoch 71/100\n",
      "2233/2233 [==============================] - 0s 161us/step - loss: 0.2144 - acc: 0.9355 - val_loss: 0.2209 - val_acc: 0.9273\n",
      "Epoch 72/100\n",
      "2233/2233 [==============================] - 0s 160us/step - loss: 0.2139 - acc: 0.9346 - val_loss: 0.2209 - val_acc: 0.9245\n",
      "Epoch 73/100\n",
      "2233/2233 [==============================] - 0s 157us/step - loss: 0.2134 - acc: 0.9342 - val_loss: 0.2217 - val_acc: 0.9273\n",
      "Epoch 74/100\n",
      "2233/2233 [==============================] - 0s 157us/step - loss: 0.2134 - acc: 0.9342 - val_loss: 0.2220 - val_acc: 0.9255\n",
      "Epoch 75/100\n",
      "2233/2233 [==============================] - 0s 157us/step - loss: 0.2131 - acc: 0.9324 - val_loss: 0.2207 - val_acc: 0.9273\n",
      "Epoch 76/100\n",
      "2233/2233 [==============================] - 0s 158us/step - loss: 0.2130 - acc: 0.9337 - val_loss: 0.2208 - val_acc: 0.9264\n",
      "Epoch 77/100\n",
      "2233/2233 [==============================] - 0s 156us/step - loss: 0.2128 - acc: 0.9355 - val_loss: 0.2209 - val_acc: 0.9255\n",
      "Epoch 78/100\n",
      "2233/2233 [==============================] - 0s 157us/step - loss: 0.2124 - acc: 0.9351 - val_loss: 0.2215 - val_acc: 0.9255\n",
      "Epoch 79/100\n",
      "2233/2233 [==============================] - 0s 164us/step - loss: 0.2124 - acc: 0.9351 - val_loss: 0.2211 - val_acc: 0.9264\n",
      "Epoch 80/100\n",
      "2233/2233 [==============================] - 0s 160us/step - loss: 0.2118 - acc: 0.9364 - val_loss: 0.2230 - val_acc: 0.9273\n",
      "Epoch 81/100\n",
      "2233/2233 [==============================] - 0s 159us/step - loss: 0.2117 - acc: 0.9342 - val_loss: 0.2214 - val_acc: 0.9273\n",
      "Epoch 82/100\n",
      "2233/2233 [==============================] - 0s 157us/step - loss: 0.2117 - acc: 0.9364 - val_loss: 0.2217 - val_acc: 0.9282\n",
      "Epoch 83/100\n",
      "2233/2233 [==============================] - 0s 158us/step - loss: 0.2114 - acc: 0.9342 - val_loss: 0.2220 - val_acc: 0.9255\n",
      "Epoch 84/100\n",
      "2233/2233 [==============================] - 0s 159us/step - loss: 0.2109 - acc: 0.9351 - val_loss: 0.2217 - val_acc: 0.9264\n",
      "Epoch 85/100\n",
      "2233/2233 [==============================] - 0s 160us/step - loss: 0.2109 - acc: 0.9346 - val_loss: 0.2221 - val_acc: 0.9291\n",
      "Epoch 86/100\n",
      "2233/2233 [==============================] - 0s 159us/step - loss: 0.2109 - acc: 0.9364 - val_loss: 0.2221 - val_acc: 0.9291\n",
      "Epoch 87/100\n",
      "2233/2233 [==============================] - 0s 158us/step - loss: 0.2105 - acc: 0.9346 - val_loss: 0.2231 - val_acc: 0.9264\n",
      "Epoch 88/100\n",
      "2233/2233 [==============================] - 0s 165us/step - loss: 0.2103 - acc: 0.9333 - val_loss: 0.2216 - val_acc: 0.9282\n",
      "Epoch 89/100\n",
      "2233/2233 [==============================] - 0s 160us/step - loss: 0.2102 - acc: 0.9369 - val_loss: 0.2214 - val_acc: 0.9264\n",
      "Epoch 90/100\n",
      "2233/2233 [==============================] - 0s 160us/step - loss: 0.2100 - acc: 0.9364 - val_loss: 0.2216 - val_acc: 0.9264\n",
      "Epoch 91/100\n",
      "2233/2233 [==============================] - 0s 162us/step - loss: 0.2099 - acc: 0.9382 - val_loss: 0.2227 - val_acc: 0.9273\n",
      "Epoch 92/100\n",
      "2233/2233 [==============================] - 0s 165us/step - loss: 0.2097 - acc: 0.9360 - val_loss: 0.2221 - val_acc: 0.9273\n",
      "Epoch 93/100\n",
      "2233/2233 [==============================] - 0s 161us/step - loss: 0.2096 - acc: 0.9382 - val_loss: 0.2228 - val_acc: 0.9264\n",
      "Epoch 94/100\n",
      "2233/2233 [==============================] - 0s 165us/step - loss: 0.2095 - acc: 0.9369 - val_loss: 0.2222 - val_acc: 0.9282\n",
      "Epoch 95/100\n",
      "2233/2233 [==============================] - 0s 163us/step - loss: 0.2094 - acc: 0.9373 - val_loss: 0.2224 - val_acc: 0.9264\n",
      "Epoch 96/100\n",
      "2233/2233 [==============================] - 0s 159us/step - loss: 0.2091 - acc: 0.9351 - val_loss: 0.2226 - val_acc: 0.9273\n",
      "Epoch 97/100\n",
      "2233/2233 [==============================] - 0s 161us/step - loss: 0.2091 - acc: 0.9382 - val_loss: 0.2225 - val_acc: 0.9282\n",
      "Epoch 98/100\n",
      "2233/2233 [==============================] - 0s 164us/step - loss: 0.2090 - acc: 0.9364 - val_loss: 0.2225 - val_acc: 0.9282\n",
      "Epoch 99/100\n",
      "2233/2233 [==============================] - 0s 163us/step - loss: 0.2088 - acc: 0.9378 - val_loss: 0.2228 - val_acc: 0.9264\n",
      "Epoch 100/100\n",
      "2233/2233 [==============================] - 0s 163us/step - loss: 0.2085 - acc: 0.9369 - val_loss: 0.2233 - val_acc: 0.9291\n"
     ]
    }
   ],
   "source": [
    "classifier.compile(loss='binary_crossentropy',\n",
    "              optimizer=SGD(),\n",
    "              metrics=['accuracy'])\n",
    "\n",
    "history = classifier.fit(x_train, y_train,\n",
    "                    batch_size=10,\n",
    "                    epochs=100,\n",
    "                    validation_data=(x_test, y_test))"
   ]
  },
  {
   "cell_type": "markdown",
   "metadata": {},
   "source": [
    "## 评估模型"
   ]
  },
  {
   "cell_type": "code",
   "execution_count": 149,
   "metadata": {},
   "outputs": [],
   "source": [
    "y_pred = classifier.predict(x_test)"
   ]
  },
  {
   "cell_type": "code",
   "execution_count": 151,
   "metadata": {},
   "outputs": [
    {
     "data": {
      "text/plain": [
       "array([[0.75186   ],\n",
       "       [0.01711982],\n",
       "       [0.01767938],\n",
       "       ...,\n",
       "       [0.02919685],\n",
       "       [0.00840225],\n",
       "       [0.05312042]], dtype=float32)"
      ]
     },
     "execution_count": 151,
     "metadata": {},
     "output_type": "execute_result"
    }
   ],
   "source": [
    "y_pred"
   ]
  },
  {
   "cell_type": "code",
   "execution_count": 153,
   "metadata": {},
   "outputs": [],
   "source": [
    "#y_test"
   ]
  },
  {
   "cell_type": "code",
   "execution_count": 154,
   "metadata": {},
   "outputs": [],
   "source": [
    "y_pred = (y_pred > 0.5)"
   ]
  },
  {
   "cell_type": "code",
   "execution_count": 156,
   "metadata": {},
   "outputs": [
    {
     "data": {
      "text/plain": [
       "(1100, 1)"
      ]
     },
     "execution_count": 156,
     "metadata": {},
     "output_type": "execute_result"
    }
   ],
   "source": [
    "y_pred.shape"
   ]
  },
  {
   "cell_type": "code",
   "execution_count": 158,
   "metadata": {},
   "outputs": [
    {
     "data": {
      "text/plain": [
       "array([1, 0, 0, ..., 0, 0, 0])"
      ]
     },
     "execution_count": 158,
     "metadata": {},
     "output_type": "execute_result"
    }
   ],
   "source": [
    "y_pred.flatten().astype(int)"
   ]
  },
  {
   "cell_type": "code",
   "execution_count": 159,
   "metadata": {},
   "outputs": [
    {
     "data": {
      "text/plain": [
       "0.9290909090909091"
      ]
     },
     "execution_count": 159,
     "metadata": {},
     "output_type": "execute_result"
    }
   ],
   "source": [
    "sum(y_pred.flatten().astype(int) == y_test) / len(y_test)"
   ]
  },
  {
   "cell_type": "code",
   "execution_count": 160,
   "metadata": {},
   "outputs": [
    {
     "data": {
      "text/plain": [
       "0.9290909090909091"
      ]
     },
     "execution_count": 160,
     "metadata": {},
     "output_type": "execute_result"
    }
   ],
   "source": [
    "from sklearn.metrics import accuracy_score\n",
    "accuracy_score(y_test, y_pred )"
   ]
  },
  {
   "cell_type": "code",
   "execution_count": 161,
   "metadata": {},
   "outputs": [],
   "source": [
    "from sklearn.metrics import confusion_matrix\n",
    "cm = confusion_matrix(y_test, y_pred )"
   ]
  },
  {
   "cell_type": "code",
   "execution_count": 162,
   "metadata": {},
   "outputs": [
    {
     "data": {
      "text/plain": [
       "array([[934,  16],\n",
       "       [ 62,  88]])"
      ]
     },
     "execution_count": 162,
     "metadata": {},
     "output_type": "execute_result"
    }
   ],
   "source": [
    "cm"
   ]
  },
  {
   "cell_type": "code",
   "execution_count": 163,
   "metadata": {},
   "outputs": [
    {
     "name": "stdout",
     "output_type": "stream",
     "text": [
      "             precision    recall  f1-score   support\n",
      "\n",
      "          0       0.94      0.98      0.96       950\n",
      "          1       0.85      0.59      0.69       150\n",
      "\n",
      "avg / total       0.93      0.93      0.92      1100\n",
      "\n"
     ]
    }
   ],
   "source": [
    "from sklearn.metrics import classification_report\n",
    "print(classification_report(y_test, y_pred))"
   ]
  },
  {
   "cell_type": "code",
   "execution_count": null,
   "metadata": {},
   "outputs": [],
   "source": []
  }
 ],
 "metadata": {
  "kernelspec": {
   "display_name": "Python 3",
   "language": "python",
   "name": "python3"
  },
  "language_info": {
   "codemirror_mode": {
    "name": "ipython",
    "version": 3
   },
   "file_extension": ".py",
   "mimetype": "text/x-python",
   "name": "python",
   "nbconvert_exporter": "python",
   "pygments_lexer": "ipython3",
   "version": "3.6.2"
  }
 },
 "nbformat": 4,
 "nbformat_minor": 2
}
