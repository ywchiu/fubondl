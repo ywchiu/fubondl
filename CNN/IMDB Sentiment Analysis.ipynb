{
 "cells": [
  {
   "cell_type": "code",
   "execution_count": 3,
   "metadata": {},
   "outputs": [
    {
     "data": {
      "text/plain": [
       "array([[[-0.00341889,  0.0023747 ],\n",
       "        [-0.03317811, -0.02840171],\n",
       "        [-0.00341889,  0.0023747 ],\n",
       "        [-0.03317811, -0.02840171],\n",
       "        [-0.03317811, -0.02840171],\n",
       "        [-0.00341889,  0.0023747 ],\n",
       "        [-0.00341889,  0.0023747 ]]], dtype=float32)"
      ]
     },
     "execution_count": 3,
     "metadata": {},
     "output_type": "execute_result"
    }
   ],
   "source": [
    "import keras\n",
    "from keras.models import Sequential\n",
    "from keras.layers import Dense, Dropout, Flatten, Conv2D, MaxPooling2D, Embedding\n",
    "from keras.utils import to_categorical\n",
    "import numpy as np\n",
    "\n",
    "model = Sequential()\n",
    "model.add(Embedding(2, 2, input_length=7))\n",
    "model.compile('rmsprop', 'mse')\n",
    "model.predict(np.array([[0,1,0,1,1,0,0]]))"
   ]
  },
  {
   "cell_type": "code",
   "execution_count": 4,
   "metadata": {},
   "outputs": [
    {
     "name": "stdout",
     "output_type": "stream",
     "text": [
      "Loading data...\n",
      "Downloading data from https://s3.amazonaws.com/text-datasets/imdb.npz\n",
      "17465344/17464789 [==============================] - 13s 1us/step\n",
      "25000 train sequences\n",
      "25000 test sequences\n"
     ]
    }
   ],
   "source": [
    "from keras.preprocessing import sequence\n",
    "from keras.models import Sequential\n",
    "from keras.layers import Dense, Embedding\n",
    "from keras.layers import LSTM\n",
    "from keras.datasets import imdb\n",
    "\n",
    "max_features = 20000\n",
    "# cut texts after this number of words (among top max_features most common words)\n",
    "maxlen = 80\n",
    "batch_size = 32\n",
    "\n",
    "print('Loading data...')\n",
    "(x_train, y_train), (x_test, y_test) = imdb.load_data(num_words=max_features)\n",
    "print(len(x_train), 'train sequences')\n",
    "print(len(x_test), 'test sequences')"
   ]
  },
  {
   "cell_type": "code",
   "execution_count": 7,
   "metadata": {
    "scrolled": true
   },
   "outputs": [],
   "source": [
    "#x_train"
   ]
  },
  {
   "cell_type": "code",
   "execution_count": 8,
   "metadata": {},
   "outputs": [
    {
     "name": "stdout",
     "output_type": "stream",
     "text": [
      "Pad sequences (samples x time)\n",
      "x_train shape: (25000, 80)\n",
      "x_test shape: (25000, 80)\n"
     ]
    }
   ],
   "source": [
    "print('Pad sequences (samples x time)')\n",
    "x_train = sequence.pad_sequences(x_train, maxlen=maxlen)\n",
    "x_test = sequence.pad_sequences(x_test, maxlen=maxlen)\n",
    "print('x_train shape:', x_train.shape)\n",
    "print('x_test shape:', x_test.shape)"
   ]
  },
  {
   "cell_type": "code",
   "execution_count": 9,
   "metadata": {},
   "outputs": [
    {
     "name": "stdout",
     "output_type": "stream",
     "text": [
      "Build model...\n",
      "WARNING:tensorflow:From /Users/davidchiu/.pyenv/versions/3.6.2/lib/python3.6/site-packages/keras/backend/tensorflow_backend.py:1247: calling reduce_sum (from tensorflow.python.ops.math_ops) with keep_dims is deprecated and will be removed in a future version.\n",
      "Instructions for updating:\n",
      "keep_dims is deprecated, use keepdims instead\n"
     ]
    }
   ],
   "source": [
    "print('Build model...')\n",
    "model = Sequential()\n",
    "model.add(Embedding(max_features, 128))\n",
    "model.add(LSTM(128, dropout=0.2, recurrent_dropout=0.2))\n",
    "model.add(Dense(1, activation='sigmoid'))"
   ]
  },
  {
   "cell_type": "code",
   "execution_count": 10,
   "metadata": {},
   "outputs": [],
   "source": [
    "# try using different optimizers and different optimizer configs\n",
    "model.compile(loss='binary_crossentropy',\n",
    "              optimizer='adam',\n",
    "              metrics=['accuracy'])"
   ]
  },
  {
   "cell_type": "code",
   "execution_count": 11,
   "metadata": {},
   "outputs": [
    {
     "name": "stdout",
     "output_type": "stream",
     "text": [
      "Train...\n",
      "Train on 25000 samples, validate on 25000 samples\n",
      "Epoch 1/15\n",
      "25000/25000 [==============================] - 109s 4ms/step - loss: 0.4583 - acc: 0.7796 - val_loss: 0.3767 - val_acc: 0.8361\n",
      "Epoch 2/15\n",
      "25000/25000 [==============================] - 116s 5ms/step - loss: 0.2999 - acc: 0.8786 - val_loss: 0.3831 - val_acc: 0.8342\n",
      "Epoch 3/15\n",
      "25000/25000 [==============================] - 133s 5ms/step - loss: 0.2149 - acc: 0.9163 - val_loss: 0.4031 - val_acc: 0.8293\n",
      "Epoch 4/15\n",
      "25000/25000 [==============================] - 132s 5ms/step - loss: 0.1517 - acc: 0.9448 - val_loss: 0.4644 - val_acc: 0.8296\n",
      "Epoch 5/15\n",
      "25000/25000 [==============================] - 133s 5ms/step - loss: 0.1077 - acc: 0.9599 - val_loss: 0.5847 - val_acc: 0.8252\n",
      "Epoch 6/15\n",
      "25000/25000 [==============================] - 126s 5ms/step - loss: 0.0862 - acc: 0.9695 - val_loss: 0.6791 - val_acc: 0.8244\n",
      "Epoch 7/15\n",
      "25000/25000 [==============================] - 129s 5ms/step - loss: 0.0561 - acc: 0.9806 - val_loss: 0.7370 - val_acc: 0.8198\n",
      "Epoch 8/15\n",
      "25000/25000 [==============================] - 128s 5ms/step - loss: 0.0456 - acc: 0.9850 - val_loss: 0.8061 - val_acc: 0.8077\n",
      "Epoch 9/15\n",
      "25000/25000 [==============================] - 125s 5ms/step - loss: 0.0349 - acc: 0.9891 - val_loss: 0.8878 - val_acc: 0.8150\n",
      "Epoch 10/15\n",
      "25000/25000 [==============================] - 124s 5ms/step - loss: 0.0281 - acc: 0.9907 - val_loss: 0.9017 - val_acc: 0.8136\n",
      "Epoch 11/15\n",
      "25000/25000 [==============================] - 128s 5ms/step - loss: 0.0224 - acc: 0.9926 - val_loss: 1.0106 - val_acc: 0.8145\n",
      "Epoch 12/15\n",
      "25000/25000 [==============================] - 126s 5ms/step - loss: 0.0162 - acc: 0.9949 - val_loss: 0.9417 - val_acc: 0.8169\n",
      "Epoch 13/15\n",
      "25000/25000 [==============================] - 113s 5ms/step - loss: 0.0145 - acc: 0.9953 - val_loss: 1.0113 - val_acc: 0.8045\n",
      "Epoch 14/15\n",
      "25000/25000 [==============================] - 111s 4ms/step - loss: 0.0135 - acc: 0.9958 - val_loss: 1.0465 - val_acc: 0.8138\n",
      "Epoch 15/15\n",
      "25000/25000 [==============================] - 123s 5ms/step - loss: 0.0094 - acc: 0.9967 - val_loss: 1.1112 - val_acc: 0.8031\n"
     ]
    },
    {
     "data": {
      "text/plain": [
       "<keras.callbacks.History at 0x1234e0ba8>"
      ]
     },
     "execution_count": 11,
     "metadata": {},
     "output_type": "execute_result"
    }
   ],
   "source": [
    "print('Train...')\n",
    "model.fit(x_train, y_train,\n",
    "          batch_size=batch_size,\n",
    "          epochs=15,\n",
    "          validation_data=(x_test, y_test))"
   ]
  },
  {
   "cell_type": "code",
   "execution_count": 12,
   "metadata": {},
   "outputs": [
    {
     "name": "stdout",
     "output_type": "stream",
     "text": [
      "25000/25000 [==============================] - 14s 568us/step\n",
      "Test score: 1.1111957150399685\n",
      "Test accuracy: 0.80308\n"
     ]
    }
   ],
   "source": [
    "score, acc = model.evaluate(x_test, y_test,\n",
    "                            batch_size=batch_size)\n",
    "print('Test score:', score)\n",
    "print('Test accuracy:', acc)"
   ]
  },
  {
   "cell_type": "code",
   "execution_count": null,
   "metadata": {},
   "outputs": [],
   "source": []
  }
 ],
 "metadata": {
  "kernelspec": {
   "display_name": "Python 3",
   "language": "python",
   "name": "python3"
  },
  "language_info": {
   "codemirror_mode": {
    "name": "ipython",
    "version": 3
   },
   "file_extension": ".py",
   "mimetype": "text/x-python",
   "name": "python",
   "nbconvert_exporter": "python",
   "pygments_lexer": "ipython3",
   "version": "3.6.2"
  }
 },
 "nbformat": 4,
 "nbformat_minor": 2
}
