{
 "cells": [
  {
   "cell_type": "markdown",
   "metadata": {},
   "source": [
    "## 引用Keras"
   ]
  },
  {
   "cell_type": "code",
   "execution_count": 68,
   "metadata": {},
   "outputs": [],
   "source": [
    "import keras\n",
    "from keras.datasets import mnist\n",
    "from keras.models import Sequential\n",
    "from keras.layers import Activation, Dense, Flatten, Conv2D, MaxPooling2D"
   ]
  },
  {
   "cell_type": "markdown",
   "metadata": {},
   "source": [
    "## 读取MNIST数据"
   ]
  },
  {
   "cell_type": "code",
   "execution_count": 69,
   "metadata": {},
   "outputs": [],
   "source": [
    "(x_train, y_train), (x_test, y_test) = mnist.load_data()"
   ]
  },
  {
   "cell_type": "code",
   "execution_count": 70,
   "metadata": {},
   "outputs": [],
   "source": [
    "x_train = x_train.reshape(60000, 28,28,1)\n",
    "x_test = x_test.reshape(10000, 28,28,1)\n",
    "x_train = x_train.astype('float32')\n",
    "x_test  = x_test.astype('float32')\n",
    "x_train /= 255\n",
    "x_test  /= 255"
   ]
  },
  {
   "cell_type": "code",
   "execution_count": 71,
   "metadata": {},
   "outputs": [],
   "source": [
    "y_train = keras.utils.to_categorical(y_train, n_classes)\n",
    "y_test  = keras.utils.to_categorical(y_test, n_classes)"
   ]
  },
  {
   "cell_type": "markdown",
   "metadata": {},
   "source": [
    "## 设定网路参数"
   ]
  },
  {
   "cell_type": "code",
   "execution_count": 72,
   "metadata": {},
   "outputs": [],
   "source": [
    "n_hidden_1 = 256 \n",
    "n_classes  = 10 \n",
    "\n",
    "training_epochs = 15\n",
    "batch_size = 100"
   ]
  },
  {
   "cell_type": "markdown",
   "metadata": {},
   "source": [
    "## 建立卷积神经网路"
   ]
  },
  {
   "cell_type": "code",
   "execution_count": 73,
   "metadata": {},
   "outputs": [],
   "source": [
    "model = keras.Sequential()\n",
    "model.add(Conv2D(\n",
    "            filters=16,\n",
    "            kernel_size = (3,3),\n",
    "            padding = 'same',\n",
    "            input_shape = (28,28,1), \n",
    "            activation = 'relu'))\n",
    "model.add(MaxPooling2D(pool_size=(2,2)))\n",
    "model.add(Flatten())\n",
    "model.add(Dense(n_hidden_1, activation='relu'))\n",
    "model.add(Dense(n_classes, activation='softmax'))"
   ]
  },
  {
   "cell_type": "code",
   "execution_count": 74,
   "metadata": {},
   "outputs": [],
   "source": [
    "model.compile(loss='categorical_crossentropy',\n",
    "              optimizer='adam',\n",
    "              metrics=['accuracy'])"
   ]
  },
  {
   "cell_type": "markdown",
   "metadata": {},
   "source": [
    "## 训练神经网路"
   ]
  },
  {
   "cell_type": "code",
   "execution_count": 75,
   "metadata": {},
   "outputs": [
    {
     "name": "stdout",
     "output_type": "stream",
     "text": [
      "Train on 60000 samples, validate on 10000 samples\n",
      "Epoch 1/15\n",
      "60000/60000 [==============================] - 14s 237us/step - loss: 0.1992 - acc: 0.9419 - val_loss: 0.0815 - val_acc: 0.9738\n",
      "Epoch 2/15\n",
      "60000/60000 [==============================] - 15s 249us/step - loss: 0.0643 - acc: 0.9805 - val_loss: 0.0618 - val_acc: 0.9806\n",
      "Epoch 3/15\n",
      "60000/60000 [==============================] - 16s 274us/step - loss: 0.0426 - acc: 0.9871 - val_loss: 0.0462 - val_acc: 0.9852\n",
      "Epoch 4/15\n",
      "60000/60000 [==============================] - 18s 306us/step - loss: 0.0309 - acc: 0.9903 - val_loss: 0.0416 - val_acc: 0.9870\n",
      "Epoch 5/15\n",
      "60000/60000 [==============================] - 19s 320us/step - loss: 0.0224 - acc: 0.9929 - val_loss: 0.0453 - val_acc: 0.9851\n",
      "Epoch 6/15\n",
      "60000/60000 [==============================] - 16s 263us/step - loss: 0.0160 - acc: 0.9954 - val_loss: 0.0466 - val_acc: 0.9847\n",
      "Epoch 7/15\n",
      "60000/60000 [==============================] - 16s 267us/step - loss: 0.0120 - acc: 0.9966 - val_loss: 0.0458 - val_acc: 0.9869\n",
      "Epoch 8/15\n",
      "60000/60000 [==============================] - 17s 277us/step - loss: 0.0086 - acc: 0.9972 - val_loss: 0.0410 - val_acc: 0.9871\n",
      "Epoch 9/15\n",
      "60000/60000 [==============================] - 17s 287us/step - loss: 0.0061 - acc: 0.9980 - val_loss: 0.0498 - val_acc: 0.9860\n",
      "Epoch 10/15\n",
      "60000/60000 [==============================] - 17s 290us/step - loss: 0.0059 - acc: 0.9982 - val_loss: 0.0494 - val_acc: 0.9859\n",
      "Epoch 11/15\n",
      "60000/60000 [==============================] - 18s 295us/step - loss: 0.0050 - acc: 0.9984 - val_loss: 0.0526 - val_acc: 0.9872\n",
      "Epoch 12/15\n",
      "60000/60000 [==============================] - 18s 298us/step - loss: 0.0036 - acc: 0.9990 - val_loss: 0.0575 - val_acc: 0.9848\n",
      "Epoch 13/15\n",
      "60000/60000 [==============================] - 19s 314us/step - loss: 0.0040 - acc: 0.9987 - val_loss: 0.0484 - val_acc: 0.9868\n",
      "Epoch 14/15\n",
      "60000/60000 [==============================] - 18s 305us/step - loss: 0.0029 - acc: 0.9992 - val_loss: 0.0488 - val_acc: 0.9874\n",
      "Epoch 15/15\n",
      "60000/60000 [==============================] - 18s 304us/step - loss: 0.0046 - acc: 0.9986 - val_loss: 0.0494 - val_acc: 0.9872\n"
     ]
    }
   ],
   "source": [
    "history = model.fit(x_train, y_train,\n",
    "                    batch_size=batch_size,\n",
    "                    epochs=training_epochs,\n",
    "                    verbose=1,\n",
    "                    validation_data=(x_test, y_test))"
   ]
  },
  {
   "cell_type": "code",
   "execution_count": null,
   "metadata": {},
   "outputs": [],
   "source": []
  }
 ],
 "metadata": {
  "kernelspec": {
   "display_name": "Python 3",
   "language": "python",
   "name": "python3"
  },
  "language_info": {
   "codemirror_mode": {
    "name": "ipython",
    "version": 3
   },
   "file_extension": ".py",
   "mimetype": "text/x-python",
   "name": "python",
   "nbconvert_exporter": "python",
   "pygments_lexer": "ipython3",
   "version": "3.6.2"
  }
 },
 "nbformat": 4,
 "nbformat_minor": 2
}
