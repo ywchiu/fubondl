{
 "cells": [
  {
   "cell_type": "code",
   "execution_count": 136,
   "metadata": {},
   "outputs": [],
   "source": [
    "import requests\n",
    "from bs4 import BeautifulSoup\n",
    "headers2 = {\n",
    "  'User-Agent': 'Mozilla/5.0 (Macintosh; Intel Mac OS X 10_14_6) AppleWebKit/537.36 (KHTML, like Gecko) Chrome/80.0.3987.149 Safari/537.36'  \n",
    "}\n",
    "\n",
    "def getCaptcha(i):\n",
    "    rs = requests.session()\n",
    "    res = rs.get('https://irs.thsrc.com.tw/IMINT/', headers = headers2)\n",
    "    soup = BeautifulSoup(res.text, 'lxml')\n",
    "    domain = 'https://irs.thsrc.com.tw'\n",
    "    imgsrc = soup.select_one('img#BookingS1Form_homeCaptcha_passCode').get('src')\n",
    "    imgurl = domain + imgsrc\n",
    "    res2 = rs.get(imgurl, headers = headers2)\n",
    "    with open('data/{}.jpg'.format(i), 'wb') as f:\n",
    "        f.write(res2.content)\n",
    "    audiosrc = soup.select('#action a')[-1].get('href')\n",
    "    audiourl = domain + audiosrc\n",
    "    jid  = audiourl.split('jsessionid=')[1].split('?')[0]\n",
    "    headers = {\n",
    "    \"Cookie\": \"JSESSIONID={}\".format(jid),\n",
    "    \"Host\": \"irs.thsrc.com.tw\",\n",
    "    \"Referer\": \"https://irs.thsrc.com.tw/IMINT/\",\n",
    "    \"Upgrade-Insecure-Requests\": \"1\",\n",
    "    \"User-Agent\": \"Mozilla/5.0 (Macintosh; Intel Mac OS X 10_14_6) AppleWebKit/537.36 (KHTML, like Gecko) Chrome/80.0.3987.149 Safari/537.36\"\n",
    "    }\n",
    "    res3 = rs.get(audiourl, headers = headers)\n",
    "    \n",
    "    with open('data/{}.wav'.format(i), 'wb') as f:\n",
    "        f.write(res3.content)\n",
    "    #print(res3.text)"
   ]
  },
  {
   "cell_type": "code",
   "execution_count": 140,
   "metadata": {},
   "outputs": [],
   "source": [
    "import time\n",
    "for i in range(100,1000):\n",
    "    getCaptcha(i)\n",
    "    time.sleep(1)"
   ]
  },
  {
   "cell_type": "code",
   "execution_count": null,
   "metadata": {},
   "outputs": [],
   "source": []
  }
 ],
 "metadata": {
  "kernelspec": {
   "display_name": "Python 3",
   "language": "python",
   "name": "python3"
  },
  "language_info": {
   "codemirror_mode": {
    "name": "ipython",
    "version": 3
   },
   "file_extension": ".py",
   "mimetype": "text/x-python",
   "name": "python",
   "nbconvert_exporter": "python",
   "pygments_lexer": "ipython3",
   "version": "3.6.2"
  }
 },
 "nbformat": 4,
 "nbformat_minor": 2
}
