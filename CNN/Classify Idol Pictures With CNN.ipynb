{
 "cells": [
  {
   "attachments": {},
   "cell_type": "markdown",
   "metadata": {},
   "source": [
    "## 使用网络爬虫抓取明星图片"
   ]
  },
  {
   "cell_type": "code",
   "execution_count": 108,
   "metadata": {},
   "outputs": [],
   "source": [
    "import requests\n",
    "from urllib import parse\n",
    "headers = {'User-Agent': 'Mozilla/5.0 (Macintosh; Intel Mac OS X 10_13_2) AppleWebKit/537.36 (KHTML, like Gecko) Chrome/67.0.3396.99 Safari/537.36'}\n",
    "img_url = 'http://image.baidu.com/search/acjson?tn=resultjson_com&ipn=rj&is=&fp=result&word={0}&step_word={0}&pn={1}'\n",
    "\n",
    "def getIdolPicture(keyword, dest_dir, batch):\n",
    "    if not os.path.exists(dest_dir):\n",
    "        os.mkdir(dest_dir)\n",
    "    for i in range(batch):\n",
    "        res = requests.get(img_url.format(parse.quote(keyword), i * 30))\n",
    "        res.encoding = 'utf-8'\n",
    "        for ele in res.json()['data']:\n",
    "            url = ele.get('thumbURL')\n",
    "            if url:\n",
    "                with open(dest_dir + url.split('/')[-1], 'wb') as f:\n",
    "                    res2 = requests.get(url, headers = headers)\n",
    "                    f.write(res2.content)"
   ]
  },
  {
   "cell_type": "code",
   "execution_count": null,
   "metadata": {},
   "outputs": [],
   "source": [
    "getIdolPicture('范冰冰', 'idol1/',10)"
   ]
  },
  {
   "attachments": {},
   "cell_type": "markdown",
   "metadata": {},
   "source": [
    "## 使用OpenCV 撷取人脸"
   ]
  },
  {
   "cell_type": "code",
   "execution_count": 3,
   "metadata": {},
   "outputs": [],
   "source": [
    "import numpy as np\n",
    "import cv2 as cv\n",
    "import matplotlib.pyplot as plt\n",
    "face_cascade = cv.CascadeClassifier('/Users/davidchiu/.pyenv/versions/3.6.2/lib/python3.6/site-packages/cv2/data/haarcascade_frontalface_default.xml')\n",
    "from PIL import Image\n",
    "def extractFace(filename, src_dir, dest_dir):\n",
    "    img = cv.imread(src_dir + filename)\n",
    "    faces = face_cascade.detectMultiScale(img, 1.3, 5)\n",
    "    im = Image.open(src_dir + filename)\n",
    "    for (x,y,w,h) in faces:\n",
    "        box = (x, y, x+w, y+h)\n",
    "        crpim = im.crop(box).resize((64,64))\n",
    "        crpim.save(dest_dir + filename)"
   ]
  },
  {
   "cell_type": "code",
   "execution_count": 5,
   "metadata": {},
   "outputs": [
    {
     "name": "stdout",
     "output_type": "stream",
     "text": [
      ".DS_Store\n"
     ]
    }
   ],
   "source": [
    "import os\n",
    "os.mkdir('idol1_face')\n",
    "for f in os.listdir('idol1/'):\n",
    "    try:\n",
    "        extractFace(f, 'idol1/', 'idol1_face/')\n",
    "    except:\n",
    "        print(f)"
   ]
  },
  {
   "attachments": {},
   "cell_type": "markdown",
   "metadata": {},
   "source": [
    "## 利用卷积神经网络辨识明星图片"
   ]
  },
  {
   "cell_type": "markdown",
   "metadata": {},
   "source": [
    "### 建构卷积神经网络"
   ]
  },
  {
   "cell_type": "code",
   "execution_count": 7,
   "metadata": {},
   "outputs": [],
   "source": [
    "from keras.models import Sequential \n",
    "from keras.layers import Conv2D\n",
    "from keras.layers import MaxPooling2D \n",
    "from keras.layers import Flatten\n",
    "from keras.layers import Dense\n",
    "\n",
    "# Initialising the CNN\n",
    "classifier = Sequential()\n",
    "# Convolution\n",
    "classifier.add(Conv2D(32, (3, 3), input_shape = (64, 64,\n",
    "3), activation = 'relu'))\n",
    "# Max Pooling\n",
    "classifier.add(MaxPooling2D(pool_size = (2, 2)))\n",
    "# Convolution\n",
    "classifier.add(Conv2D(32, (3, 3), activation = 'relu'))\n",
    "# Max Pooling\n",
    "classifier.add(MaxPooling2D(pool_size = (2, 2)))\n",
    "# Flattening\n",
    "classifier.add(Flatten())\n",
    "\n",
    "# Fully Connected\n",
    "classifier.add(Dense(units = 128, activation = 'relu')) \n",
    "classifier.add(Dense(units = 3, activation = 'softmax'))\n",
    "\n",
    "classifier.compile(optimizer = 'adam', \n",
    "                        loss ='categorical_crossentropy', \n",
    "                     metrics = ['accuracy'])"
   ]
  },
  {
   "cell_type": "markdown",
   "metadata": {},
   "source": [
    "### 图像增广技术"
   ]
  },
  {
   "cell_type": "code",
   "execution_count": 8,
   "metadata": {},
   "outputs": [],
   "source": [
    "from keras.preprocessing.image import ImageDataGenerator\n",
    "\n",
    "train_datagen = ImageDataGenerator(rescale = 1./255,\n",
    "                                   shear_range = 0.2,     #x坐标保持不变，而对应的y坐标按比例发生平移\n",
    "                                   zoom_range = 0.2,      #可以让图片在长或宽的方向进行放大\n",
    "                                   horizontal_flip = True #水平翻转操作\n",
    "                                  )"
   ]
  },
  {
   "cell_type": "code",
   "execution_count": 9,
   "metadata": {},
   "outputs": [],
   "source": [
    "test_datagen = ImageDataGenerator(rescale = 1./255)"
   ]
  },
  {
   "cell_type": "markdown",
   "metadata": {},
   "source": [
    "### 建立训练与测试数据集"
   ]
  },
  {
   "cell_type": "code",
   "execution_count": 10,
   "metadata": {},
   "outputs": [
    {
     "name": "stdout",
     "output_type": "stream",
     "text": [
      "Found 413 images belonging to 3 classes.\n"
     ]
    }
   ],
   "source": [
    "training_set = train_datagen.flow_from_directory(\n",
    "    'trainset/', target_size = (64, 64),\n",
    "     batch_size = 30,\n",
    "     class_mode = 'categorical')"
   ]
  },
  {
   "cell_type": "code",
   "execution_count": 11,
   "metadata": {},
   "outputs": [
    {
     "name": "stdout",
     "output_type": "stream",
     "text": [
      "Found 106 images belonging to 3 classes.\n"
     ]
    }
   ],
   "source": [
    "test_set = test_datagen.flow_from_directory(\n",
    "    'testset/', target_size = (64, 64),\n",
    "    batch_size = 30, \n",
    "    class_mode = 'categorical')"
   ]
  },
  {
   "cell_type": "markdown",
   "metadata": {},
   "source": [
    "### 训练神经网路"
   ]
  },
  {
   "cell_type": "code",
   "execution_count": 12,
   "metadata": {},
   "outputs": [
    {
     "name": "stdout",
     "output_type": "stream",
     "text": [
      "Epoch 1/100\n",
      "14/14 [==============================] - 2s 152ms/step - loss: 1.2127 - acc: 0.3030 - val_loss: 1.0971 - val_acc: 0.4245\n",
      "Epoch 2/100\n",
      "14/14 [==============================] - 1s 105ms/step - loss: 1.0901 - acc: 0.4239 - val_loss: 1.1323 - val_acc: 0.3396\n",
      "Epoch 3/100\n",
      "14/14 [==============================] - 1s 101ms/step - loss: 1.0791 - acc: 0.4259 - val_loss: 1.0750 - val_acc: 0.3396\n",
      "Epoch 4/100\n",
      "14/14 [==============================] - 1s 100ms/step - loss: 1.0322 - acc: 0.4202 - val_loss: 1.0209 - val_acc: 0.3774\n",
      "Epoch 5/100\n",
      "14/14 [==============================] - 1s 101ms/step - loss: 0.9745 - acc: 0.5189 - val_loss: 0.9681 - val_acc: 0.4717\n",
      "Epoch 6/100\n",
      "14/14 [==============================] - 1s 104ms/step - loss: 0.9489 - acc: 0.5492 - val_loss: 0.9928 - val_acc: 0.4245\n",
      "Epoch 7/100\n",
      "14/14 [==============================] - 1s 106ms/step - loss: 0.8914 - acc: 0.5979 - val_loss: 0.9520 - val_acc: 0.4434\n",
      "Epoch 8/100\n",
      "14/14 [==============================] - 2s 107ms/step - loss: 0.9172 - acc: 0.5856 - val_loss: 0.8956 - val_acc: 0.5283\n",
      "Epoch 9/100\n",
      "14/14 [==============================] - 1s 107ms/step - loss: 0.8152 - acc: 0.6166 - val_loss: 0.7837 - val_acc: 0.6226\n",
      "Epoch 10/100\n",
      "14/14 [==============================] - 1s 105ms/step - loss: 0.7667 - acc: 0.6633 - val_loss: 0.8303 - val_acc: 0.6038\n",
      "Epoch 11/100\n",
      "14/14 [==============================] - 2s 110ms/step - loss: 0.7542 - acc: 0.6714 - val_loss: 0.7674 - val_acc: 0.6415\n",
      "Epoch 12/100\n",
      "14/14 [==============================] - 1s 106ms/step - loss: 0.7595 - acc: 0.6500 - val_loss: 0.7244 - val_acc: 0.7170\n",
      "Epoch 13/100\n",
      "14/14 [==============================] - 2s 108ms/step - loss: 0.6995 - acc: 0.7075 - val_loss: 0.7412 - val_acc: 0.6509\n",
      "Epoch 14/100\n",
      "14/14 [==============================] - 2s 113ms/step - loss: 0.6452 - acc: 0.7167 - val_loss: 0.7773 - val_acc: 0.6415\n",
      "Epoch 15/100\n",
      "14/14 [==============================] - 2s 110ms/step - loss: 0.6187 - acc: 0.7222 - val_loss: 0.6915 - val_acc: 0.6981\n",
      "Epoch 16/100\n",
      "14/14 [==============================] - 2s 116ms/step - loss: 0.5995 - acc: 0.7422 - val_loss: 0.6228 - val_acc: 0.6981\n",
      "Epoch 17/100\n",
      "14/14 [==============================] - 2s 113ms/step - loss: 0.5313 - acc: 0.7995 - val_loss: 0.6764 - val_acc: 0.6887\n",
      "Epoch 18/100\n",
      "14/14 [==============================] - 2s 108ms/step - loss: 0.5135 - acc: 0.7875 - val_loss: 0.6424 - val_acc: 0.6981\n",
      "Epoch 19/100\n",
      "14/14 [==============================] - 2s 109ms/step - loss: 0.5493 - acc: 0.7780 - val_loss: 0.6733 - val_acc: 0.6981\n",
      "Epoch 20/100\n",
      "14/14 [==============================] - 2s 116ms/step - loss: 0.5391 - acc: 0.7637 - val_loss: 0.6081 - val_acc: 0.7264\n",
      "Epoch 21/100\n",
      "14/14 [==============================] - 2s 108ms/step - loss: 0.5227 - acc: 0.7923 - val_loss: 0.6611 - val_acc: 0.7075\n",
      "Epoch 22/100\n",
      "14/14 [==============================] - 2s 115ms/step - loss: 0.4611 - acc: 0.8155 - val_loss: 0.5571 - val_acc: 0.7736\n",
      "Epoch 23/100\n",
      "14/14 [==============================] - 2s 115ms/step - loss: 0.4819 - acc: 0.7984 - val_loss: 0.5853 - val_acc: 0.7264\n",
      "Epoch 24/100\n",
      "14/14 [==============================] - 2s 109ms/step - loss: 0.4144 - acc: 0.8536 - val_loss: 0.5778 - val_acc: 0.7453\n",
      "Epoch 25/100\n",
      "14/14 [==============================] - 2s 109ms/step - loss: 0.4231 - acc: 0.8454 - val_loss: 0.7183 - val_acc: 0.7170\n",
      "Epoch 26/100\n",
      "14/14 [==============================] - 2s 111ms/step - loss: 0.4617 - acc: 0.8070 - val_loss: 0.6707 - val_acc: 0.6981\n",
      "Epoch 27/100\n",
      "14/14 [==============================] - 2s 109ms/step - loss: 0.3562 - acc: 0.8747 - val_loss: 0.5403 - val_acc: 0.7547\n",
      "Epoch 28/100\n",
      "14/14 [==============================] - 2s 110ms/step - loss: 0.4489 - acc: 0.8226 - val_loss: 0.7109 - val_acc: 0.7075\n",
      "Epoch 29/100\n",
      "14/14 [==============================] - 2s 108ms/step - loss: 0.4747 - acc: 0.8281 - val_loss: 0.5962 - val_acc: 0.7830\n",
      "Epoch 30/100\n",
      "14/14 [==============================] - 2s 108ms/step - loss: 0.4335 - acc: 0.8339 - val_loss: 0.6095 - val_acc: 0.7170\n",
      "Epoch 31/100\n",
      "14/14 [==============================] - 2s 119ms/step - loss: 0.3818 - acc: 0.8614 - val_loss: 0.6063 - val_acc: 0.7170\n",
      "Epoch 32/100\n",
      "14/14 [==============================] - 2s 114ms/step - loss: 0.3591 - acc: 0.8573 - val_loss: 0.5855 - val_acc: 0.7642\n",
      "Epoch 33/100\n",
      "14/14 [==============================] - 2s 112ms/step - loss: 0.3195 - acc: 0.8778 - val_loss: 0.5193 - val_acc: 0.8208\n",
      "Epoch 34/100\n",
      "14/14 [==============================] - 2s 109ms/step - loss: 0.3697 - acc: 0.8550 - val_loss: 0.5376 - val_acc: 0.8019\n",
      "Epoch 35/100\n",
      "14/14 [==============================] - 2s 111ms/step - loss: 0.3431 - acc: 0.8778 - val_loss: 0.5274 - val_acc: 0.7925\n",
      "Epoch 36/100\n",
      "14/14 [==============================] - 2s 110ms/step - loss: 0.3746 - acc: 0.8495 - val_loss: 0.6038 - val_acc: 0.7925\n",
      "Epoch 37/100\n",
      "14/14 [==============================] - 1s 105ms/step - loss: 0.3441 - acc: 0.8611 - val_loss: 0.5981 - val_acc: 0.7642\n",
      "Epoch 38/100\n",
      "14/14 [==============================] - 1s 105ms/step - loss: 0.3959 - acc: 0.8376 - val_loss: 0.5639 - val_acc: 0.8019\n",
      "Epoch 39/100\n",
      "14/14 [==============================] - 2s 108ms/step - loss: 0.3131 - acc: 0.8788 - val_loss: 0.4858 - val_acc: 0.8113\n",
      "Epoch 40/100\n",
      "14/14 [==============================] - 2s 108ms/step - loss: 0.3103 - acc: 0.8809 - val_loss: 0.5481 - val_acc: 0.7925\n",
      "Epoch 41/100\n",
      "14/14 [==============================] - 2s 109ms/step - loss: 0.3565 - acc: 0.8686 - val_loss: 0.5397 - val_acc: 0.7830\n",
      "Epoch 42/100\n",
      "14/14 [==============================] - 2s 114ms/step - loss: 0.2157 - acc: 0.9230 - val_loss: 0.7228 - val_acc: 0.7358\n",
      "Epoch 43/100\n",
      "14/14 [==============================] - 2s 113ms/step - loss: 0.2963 - acc: 0.8890 - val_loss: 0.4996 - val_acc: 0.8019\n",
      "Epoch 44/100\n",
      "14/14 [==============================] - 2s 112ms/step - loss: 0.3206 - acc: 0.8727 - val_loss: 0.5364 - val_acc: 0.8019\n",
      "Epoch 45/100\n",
      "14/14 [==============================] - 1s 106ms/step - loss: 0.2998 - acc: 0.8849 - val_loss: 0.5429 - val_acc: 0.8113\n",
      "Epoch 46/100\n",
      "14/14 [==============================] - 2s 108ms/step - loss: 0.2816 - acc: 0.8962 - val_loss: 0.4984 - val_acc: 0.8585\n",
      "Epoch 47/100\n",
      "14/14 [==============================] - 1s 106ms/step - loss: 0.2568 - acc: 0.9241 - val_loss: 0.5855 - val_acc: 0.8019\n",
      "Epoch 48/100\n",
      "14/14 [==============================] - 1s 107ms/step - loss: 0.2402 - acc: 0.9115 - val_loss: 0.4991 - val_acc: 0.8396\n",
      "Epoch 49/100\n",
      "14/14 [==============================] - 1s 107ms/step - loss: 0.2294 - acc: 0.9166 - val_loss: 0.5730 - val_acc: 0.8302\n",
      "Epoch 50/100\n",
      "14/14 [==============================] - 2s 109ms/step - loss: 0.2898 - acc: 0.9057 - val_loss: 0.6209 - val_acc: 0.7830\n",
      "Epoch 51/100\n",
      "14/14 [==============================] - 2s 107ms/step - loss: 0.3094 - acc: 0.8822 - val_loss: 0.6364 - val_acc: 0.8019\n",
      "Epoch 52/100\n",
      "14/14 [==============================] - 1s 105ms/step - loss: 0.2740 - acc: 0.8944 - val_loss: 0.5398 - val_acc: 0.8585\n",
      "Epoch 53/100\n",
      "14/14 [==============================] - 1s 107ms/step - loss: 0.2181 - acc: 0.9285 - val_loss: 0.6572 - val_acc: 0.8302\n",
      "Epoch 54/100\n",
      "14/14 [==============================] - 1s 107ms/step - loss: 0.2438 - acc: 0.8924 - val_loss: 0.5689 - val_acc: 0.8491\n",
      "Epoch 55/100\n",
      "14/14 [==============================] - 1s 105ms/step - loss: 0.2393 - acc: 0.9064 - val_loss: 0.6186 - val_acc: 0.8113\n",
      "Epoch 56/100\n",
      "14/14 [==============================] - 1s 105ms/step - loss: 0.2243 - acc: 0.9248 - val_loss: 0.5755 - val_acc: 0.8113\n",
      "Epoch 57/100\n",
      "14/14 [==============================] - 1s 105ms/step - loss: 0.2288 - acc: 0.9183 - val_loss: 0.6425 - val_acc: 0.8208\n",
      "Epoch 58/100\n",
      "14/14 [==============================] - 1s 105ms/step - loss: 0.2301 - acc: 0.9135 - val_loss: 0.6598 - val_acc: 0.8302\n",
      "Epoch 59/100\n",
      "14/14 [==============================] - 1s 104ms/step - loss: 0.2550 - acc: 0.8979 - val_loss: 0.6327 - val_acc: 0.8208\n",
      "Epoch 60/100\n",
      "14/14 [==============================] - 1s 105ms/step - loss: 0.2442 - acc: 0.9026 - val_loss: 0.6880 - val_acc: 0.7547\n",
      "Epoch 61/100\n",
      "14/14 [==============================] - 2s 108ms/step - loss: 0.2663 - acc: 0.9105 - val_loss: 0.6943 - val_acc: 0.7925\n",
      "Epoch 62/100\n"
     ]
    },
    {
     "name": "stdout",
     "output_type": "stream",
     "text": [
      "14/14 [==============================] - 1s 104ms/step - loss: 0.2144 - acc: 0.9128 - val_loss: 0.7816 - val_acc: 0.7642\n",
      "Epoch 63/100\n",
      "14/14 [==============================] - 1s 104ms/step - loss: 0.2742 - acc: 0.8941 - val_loss: 0.6418 - val_acc: 0.8019\n",
      "Epoch 64/100\n",
      "14/14 [==============================] - 1s 103ms/step - loss: 0.1703 - acc: 0.9241 - val_loss: 0.6326 - val_acc: 0.7925\n",
      "Epoch 65/100\n",
      "14/14 [==============================] - 1s 102ms/step - loss: 0.2003 - acc: 0.9319 - val_loss: 0.6366 - val_acc: 0.8019\n",
      "Epoch 66/100\n",
      "14/14 [==============================] - 1s 101ms/step - loss: 0.1568 - acc: 0.9486 - val_loss: 0.5784 - val_acc: 0.8208\n",
      "Epoch 67/100\n",
      "14/14 [==============================] - 1s 100ms/step - loss: 0.1665 - acc: 0.9462 - val_loss: 0.6289 - val_acc: 0.8302\n",
      "Epoch 68/100\n",
      "14/14 [==============================] - 1s 100ms/step - loss: 0.1900 - acc: 0.9241 - val_loss: 0.5779 - val_acc: 0.8585\n",
      "Epoch 69/100\n",
      "14/14 [==============================] - 1s 102ms/step - loss: 0.1955 - acc: 0.9319 - val_loss: 0.5205 - val_acc: 0.8491\n",
      "Epoch 70/100\n",
      "14/14 [==============================] - 1s 103ms/step - loss: 0.1509 - acc: 0.9499 - val_loss: 0.5520 - val_acc: 0.8774\n",
      "Epoch 71/100\n",
      "14/14 [==============================] - 1s 104ms/step - loss: 0.1327 - acc: 0.9571 - val_loss: 0.6373 - val_acc: 0.7830\n",
      "Epoch 72/100\n",
      "14/14 [==============================] - 1s 102ms/step - loss: 0.1506 - acc: 0.9282 - val_loss: 0.6615 - val_acc: 0.8302\n",
      "Epoch 73/100\n",
      "14/14 [==============================] - 1s 101ms/step - loss: 0.1469 - acc: 0.9642 - val_loss: 0.5780 - val_acc: 0.8396\n",
      "Epoch 74/100\n",
      "14/14 [==============================] - 1s 100ms/step - loss: 0.1749 - acc: 0.9326 - val_loss: 0.6566 - val_acc: 0.8113\n",
      "Epoch 75/100\n",
      "14/14 [==============================] - 1s 101ms/step - loss: 0.1478 - acc: 0.9428 - val_loss: 0.6725 - val_acc: 0.8396\n",
      "Epoch 76/100\n",
      "14/14 [==============================] - 2s 108ms/step - loss: 0.1321 - acc: 0.9636 - val_loss: 0.6277 - val_acc: 0.8302\n",
      "Epoch 77/100\n",
      "14/14 [==============================] - 1s 101ms/step - loss: 0.1273 - acc: 0.9540 - val_loss: 0.7895 - val_acc: 0.8113\n",
      "Epoch 78/100\n",
      "14/14 [==============================] - 1s 100ms/step - loss: 0.1568 - acc: 0.9462 - val_loss: 0.5923 - val_acc: 0.8396\n",
      "Epoch 79/100\n",
      "14/14 [==============================] - 1s 101ms/step - loss: 0.1482 - acc: 0.9547 - val_loss: 0.5098 - val_acc: 0.8585\n",
      "Epoch 80/100\n",
      "14/14 [==============================] - 1s 103ms/step - loss: 0.1155 - acc: 0.9547 - val_loss: 0.6298 - val_acc: 0.8396\n",
      "Epoch 81/100\n",
      "14/14 [==============================] - 1s 104ms/step - loss: 0.1145 - acc: 0.9636 - val_loss: 0.5942 - val_acc: 0.8491\n",
      "Epoch 82/100\n",
      "14/14 [==============================] - 1s 103ms/step - loss: 0.1369 - acc: 0.9445 - val_loss: 0.6341 - val_acc: 0.8491\n",
      "Epoch 83/100\n",
      "14/14 [==============================] - 1s 101ms/step - loss: 0.1000 - acc: 0.9653 - val_loss: 0.6627 - val_acc: 0.8396\n",
      "Epoch 84/100\n",
      "14/14 [==============================] - 1s 101ms/step - loss: 0.0996 - acc: 0.9683 - val_loss: 0.6139 - val_acc: 0.8302\n",
      "Epoch 85/100\n",
      "14/14 [==============================] - 1s 101ms/step - loss: 0.1349 - acc: 0.9499 - val_loss: 0.7337 - val_acc: 0.8302\n",
      "Epoch 86/100\n",
      "14/14 [==============================] - 1s 101ms/step - loss: 0.1449 - acc: 0.9462 - val_loss: 0.6979 - val_acc: 0.8208\n",
      "Epoch 87/100\n",
      "14/14 [==============================] - 1s 102ms/step - loss: 0.1808 - acc: 0.9336 - val_loss: 0.8914 - val_acc: 0.7830\n",
      "Epoch 88/100\n",
      "14/14 [==============================] - 2s 109ms/step - loss: 0.1882 - acc: 0.9254 - val_loss: 0.5574 - val_acc: 0.8302\n",
      "Epoch 89/100\n",
      "14/14 [==============================] - 1s 101ms/step - loss: 0.1623 - acc: 0.9391 - val_loss: 0.7401 - val_acc: 0.8302\n",
      "Epoch 90/100\n",
      "14/14 [==============================] - 1s 102ms/step - loss: 0.1273 - acc: 0.9523 - val_loss: 0.6241 - val_acc: 0.8585\n",
      "Epoch 91/100\n",
      "14/14 [==============================] - 1s 103ms/step - loss: 0.1209 - acc: 0.9660 - val_loss: 0.6392 - val_acc: 0.8396\n",
      "Epoch 92/100\n",
      "14/14 [==============================] - 1s 105ms/step - loss: 0.1702 - acc: 0.9350 - val_loss: 0.6176 - val_acc: 0.8491\n",
      "Epoch 93/100\n",
      "14/14 [==============================] - 1s 100ms/step - loss: 0.1273 - acc: 0.9564 - val_loss: 0.7410 - val_acc: 0.8113\n",
      "Epoch 94/100\n",
      "14/14 [==============================] - 1s 103ms/step - loss: 0.1657 - acc: 0.9373 - val_loss: 0.5396 - val_acc: 0.8396\n",
      "Epoch 95/100\n",
      "14/14 [==============================] - 1s 100ms/step - loss: 0.1460 - acc: 0.9452 - val_loss: 0.5813 - val_acc: 0.8774\n",
      "Epoch 96/100\n",
      "14/14 [==============================] - 1s 101ms/step - loss: 0.1401 - acc: 0.9540 - val_loss: 0.5831 - val_acc: 0.8396\n",
      "Epoch 97/100\n",
      "14/14 [==============================] - 1s 102ms/step - loss: 0.1621 - acc: 0.9275 - val_loss: 0.5823 - val_acc: 0.8868\n",
      "Epoch 98/100\n",
      "14/14 [==============================] - 1s 102ms/step - loss: 0.1860 - acc: 0.9336 - val_loss: 0.5595 - val_acc: 0.8208\n",
      "Epoch 99/100\n",
      "14/14 [==============================] - 1s 102ms/step - loss: 0.1424 - acc: 0.9414 - val_loss: 0.5956 - val_acc: 0.8302\n",
      "Epoch 100/100\n",
      "14/14 [==============================] - 1s 104ms/step - loss: 0.1046 - acc: 0.9707 - val_loss: 0.5778 - val_acc: 0.8868\n"
     ]
    }
   ],
   "source": [
    "history = classifier.fit_generator(training_set,\n",
    "                         epochs = 100,\n",
    "                         verbose = 1, \n",
    "                         validation_data = test_set)"
   ]
  },
  {
   "cell_type": "markdown",
   "metadata": {},
   "source": [
    "### 预测单张图片"
   ]
  },
  {
   "cell_type": "code",
   "execution_count": 195,
   "metadata": {},
   "outputs": [],
   "source": [
    "import numpy as np\n",
    "import cv2 as cv\n",
    "import matplotlib.pyplot as plt\n",
    "face_cascade = cv.CascadeClassifier('/Users/davidchiu/.pyenv/versions/3.6.2/lib/python3.6/site-packages/cv2/data/haarcascade_frontalface_default.xml')\n",
    "from PIL import Image\n",
    "\n",
    "img = cv.imread('i1.jpg')\n",
    "faces = face_cascade.detectMultiScale(img, 1.3, 5)\n",
    "im = Image.open('i1.jpg')\n",
    "x,y,w,h = faces[0]\n",
    "box = (x, y, x+w, y+h)\n",
    "crpim = im.crop(box).resize((64,64))\n",
    "crpim.save('i1_d.jpg')"
   ]
  },
  {
   "cell_type": "code",
   "execution_count": 23,
   "metadata": {},
   "outputs": [
    {
     "data": {
      "text/plain": [
       "numpy.ndarray"
      ]
     },
     "execution_count": 23,
     "metadata": {},
     "output_type": "execute_result"
    }
   ],
   "source": [
    "import numpy as np\n",
    "from keras.preprocessing import image\n",
    "test_image = image.load_img('prediction_dataset/i2_d.jpg', target_size= (64,64))\n",
    "test_image = image.img_to_array(test_image)\n",
    "\n",
    "type(test_image)"
   ]
  },
  {
   "cell_type": "code",
   "execution_count": 24,
   "metadata": {},
   "outputs": [
    {
     "data": {
      "text/plain": [
       "(64, 64, 3)"
      ]
     },
     "execution_count": 24,
     "metadata": {},
     "output_type": "execute_result"
    }
   ],
   "source": [
    "test_image.shape"
   ]
  },
  {
   "cell_type": "code",
   "execution_count": 25,
   "metadata": {},
   "outputs": [],
   "source": [
    "test_image = np.expand_dims(test_image, axis = 0)"
   ]
  },
  {
   "cell_type": "code",
   "execution_count": 26,
   "metadata": {},
   "outputs": [
    {
     "data": {
      "text/plain": [
       "(1, 64, 64, 3)"
      ]
     },
     "execution_count": 26,
     "metadata": {},
     "output_type": "execute_result"
    }
   ],
   "source": [
    "test_image.shape"
   ]
  },
  {
   "cell_type": "code",
   "execution_count": 27,
   "metadata": {},
   "outputs": [
    {
     "data": {
      "text/plain": [
       "array([1])"
      ]
     },
     "execution_count": 27,
     "metadata": {},
     "output_type": "execute_result"
    }
   ],
   "source": [
    "classifier.predict_classes(test_image)"
   ]
  },
  {
   "cell_type": "code",
   "execution_count": null,
   "metadata": {},
   "outputs": [],
   "source": []
  }
 ],
 "metadata": {
  "kernelspec": {
   "display_name": "Python 3",
   "language": "python",
   "name": "python3"
  },
  "language_info": {
   "codemirror_mode": {
    "name": "ipython",
    "version": 3
   },
   "file_extension": ".py",
   "mimetype": "text/x-python",
   "name": "python",
   "nbconvert_exporter": "python",
   "pygments_lexer": "ipython3",
   "version": "3.6.2"
  }
 },
 "nbformat": 4,
 "nbformat_minor": 2
}
