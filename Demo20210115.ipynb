{
  "nbformat": 4,
  "nbformat_minor": 0,
  "metadata": {
    "colab": {
      "name": "Demo20210115.ipynb",
      "provenance": [],
      "collapsed_sections": []
    },
    "kernelspec": {
      "name": "python3",
      "display_name": "Python 3"
    },
    "accelerator": "GPU"
  },
  "cells": [
    {
      "cell_type": "markdown",
      "metadata": {
        "id": "qTsVDsuBtRId"
      },
      "source": [
        "## 抓取高鐵驗證碼"
      ]
    },
    {
      "cell_type": "code",
      "metadata": {
        "id": "RqZSjCNusbLQ"
      },
      "source": [
        "! mkdir data"
      ],
      "execution_count": 1,
      "outputs": []
    },
    {
      "cell_type": "code",
      "metadata": {
        "id": "nY80dtVfr6mM"
      },
      "source": [
        "import requests\n",
        "from bs4 import BeautifulSoup\n",
        "\n",
        "headers = {\n",
        "  'User-Agent': 'Mozilla/5.0 (Macintosh; Intel Mac OS X 10_14_6) AppleWebKit/537.36 (KHTML, like Gecko) Chrome/80.0.3987.149 Safari/537.36'  \n",
        "}\n",
        "\n",
        "def getCaptcha(i):\n",
        "    rs = requests.session()\n",
        "    res = rs.get('https://irs.thsrc.com.tw/IMINT/', headers = headers)\n",
        "    soup = BeautifulSoup(res.text, 'lxml')\n",
        "    domain = 'https://irs.thsrc.com.tw'\n",
        "    imgsrc = soup.select_one('img#BookingS1Form_homeCaptcha_passCode').get('src')\n",
        "    imgurl = domain + imgsrc\n",
        "    res2 = rs.get(imgurl, headers = headers)\n",
        "    with open('data/{}.jpg'.format(i), 'wb') as f:\n",
        "        f.write(res2.content)"
      ],
      "execution_count": 4,
      "outputs": []
    },
    {
      "cell_type": "code",
      "metadata": {
        "id": "xhnMNuNCsfys"
      },
      "source": [
        "#getCaptcha(1)"
      ],
      "execution_count": 6,
      "outputs": []
    },
    {
      "cell_type": "markdown",
      "metadata": {
        "id": "usQgdIcQtfV-"
      },
      "source": [
        "## 載入驗證碼圖片"
      ]
    },
    {
      "cell_type": "code",
      "metadata": {
        "colab": {
          "base_uri": "https://localhost:8080/"
        },
        "id": "qB0KYxevsh1r",
        "outputId": "27edae77-61d8-4ee0-ff84-9bfae5a1c002"
      },
      "source": [
        "! wget https://raw.githubusercontent.com/ywchiu/fubondl/main/data/captcha_jpg.zip"
      ],
      "execution_count": 7,
      "outputs": [
        {
          "output_type": "stream",
          "text": [
            "--2021-01-15 06:23:05--  https://raw.githubusercontent.com/ywchiu/fubondl/main/data/captcha_jpg.zip\n",
            "Resolving raw.githubusercontent.com (raw.githubusercontent.com)... 151.101.0.133, 151.101.64.133, 151.101.128.133, ...\n",
            "Connecting to raw.githubusercontent.com (raw.githubusercontent.com)|151.101.0.133|:443... connected.\n",
            "HTTP request sent, awaiting response... 200 OK\n",
            "Length: 3818150 (3.6M) [application/zip]\n",
            "Saving to: ‘captcha_jpg.zip’\n",
            "\n",
            "captcha_jpg.zip     100%[===================>]   3.64M  --.-KB/s    in 0.1s    \n",
            "\n",
            "2021-01-15 06:23:06 (34.0 MB/s) - ‘captcha_jpg.zip’ saved [3818150/3818150]\n",
            "\n"
          ],
          "name": "stdout"
        }
      ]
    },
    {
      "cell_type": "code",
      "metadata": {
        "id": "CjBwilqztjFK"
      },
      "source": [
        "! unzip captcha_jpg.zip > 1.log"
      ],
      "execution_count": 8,
      "outputs": []
    },
    {
      "cell_type": "code",
      "metadata": {
        "colab": {
          "base_uri": "https://localhost:8080/"
        },
        "id": "QW4EgwPCtw0F",
        "outputId": "512037f7-4657-4bda-bf06-862a23c8349f"
      },
      "source": [
        "! ls data/ | wc -l"
      ],
      "execution_count": 11,
      "outputs": [
        {
          "output_type": "stream",
          "text": [
            "999\n"
          ],
          "name": "stdout"
        }
      ]
    },
    {
      "cell_type": "code",
      "metadata": {
        "colab": {
          "base_uri": "https://localhost:8080/"
        },
        "id": "ZE6OHa9UtmMK",
        "outputId": "6ac3fc81-40d7-46bc-9595-9e2d3ac07099"
      },
      "source": [
        "from PIL import Image\n",
        "img = Image.open('data/1.jpg')\n",
        "img.size"
      ],
      "execution_count": 18,
      "outputs": [
        {
          "output_type": "execute_result",
          "data": {
            "text/plain": [
              "(135, 47)"
            ]
          },
          "metadata": {
            "tags": []
          },
          "execution_count": 18
        }
      ]
    },
    {
      "cell_type": "code",
      "metadata": {
        "id": "Qm4RRppSts8O"
      },
      "source": [
        "import pandas\n",
        "df = pandas.read_csv('https://raw.githubusercontent.com/ywchiu/fubondl/main/data/output_captua.csv', index_col = 0)"
      ],
      "execution_count": 12,
      "outputs": []
    },
    {
      "cell_type": "code",
      "metadata": {
        "id": "oL5AsIOhvEzE"
      },
      "source": [
        "df.dropna(inplace=True)\n",
        "df['file'] = df['file'].map(lambda e: 'data/{}.jpg'.format(int(e)) )"
      ],
      "execution_count": 15,
      "outputs": []
    },
    {
      "cell_type": "code",
      "metadata": {
        "colab": {
          "base_uri": "https://localhost:8080/",
          "height": 204
        },
        "id": "dAeDWHQ-vGME",
        "outputId": "fb1564fe-c5a7-42ba-ccbd-f8ef263ca779"
      },
      "source": [
        "df.head()"
      ],
      "execution_count": 16,
      "outputs": [
        {
          "output_type": "execute_result",
          "data": {
            "text/html": [
              "<div>\n",
              "<style scoped>\n",
              "    .dataframe tbody tr th:only-of-type {\n",
              "        vertical-align: middle;\n",
              "    }\n",
              "\n",
              "    .dataframe tbody tr th {\n",
              "        vertical-align: top;\n",
              "    }\n",
              "\n",
              "    .dataframe thead th {\n",
              "        text-align: right;\n",
              "    }\n",
              "</style>\n",
              "<table border=\"1\" class=\"dataframe\">\n",
              "  <thead>\n",
              "    <tr style=\"text-align: right;\">\n",
              "      <th></th>\n",
              "      <th>captcua</th>\n",
              "      <th>file</th>\n",
              "    </tr>\n",
              "  </thead>\n",
              "  <tbody>\n",
              "    <tr>\n",
              "      <th>0.0</th>\n",
              "      <td>4ay2</td>\n",
              "      <td>data/1.jpg</td>\n",
              "    </tr>\n",
              "    <tr>\n",
              "      <th>2.0</th>\n",
              "      <td>qmqh</td>\n",
              "      <td>data/2.jpg</td>\n",
              "    </tr>\n",
              "    <tr>\n",
              "      <th>4.0</th>\n",
              "      <td>kc3c</td>\n",
              "      <td>data/3.jpg</td>\n",
              "    </tr>\n",
              "    <tr>\n",
              "      <th>6.0</th>\n",
              "      <td>1549</td>\n",
              "      <td>data/4.jpg</td>\n",
              "    </tr>\n",
              "    <tr>\n",
              "      <th>8.0</th>\n",
              "      <td>5rqz</td>\n",
              "      <td>data/5.jpg</td>\n",
              "    </tr>\n",
              "  </tbody>\n",
              "</table>\n",
              "</div>"
            ],
            "text/plain": [
              "    captcua        file\n",
              "0.0    4ay2  data/1.jpg\n",
              "2.0    qmqh  data/2.jpg\n",
              "4.0    kc3c  data/3.jpg\n",
              "6.0    1549  data/4.jpg\n",
              "8.0    5rqz  data/5.jpg"
            ]
          },
          "metadata": {
            "tags": []
          },
          "execution_count": 16
        }
      ]
    },
    {
      "cell_type": "code",
      "metadata": {
        "colab": {
          "base_uri": "https://localhost:8080/"
        },
        "id": "Ms1PPQ8Tvs2f",
        "outputId": "5edd53ba-3095-4cb4-e286-338fa9dfe983"
      },
      "source": [
        "len(df)"
      ],
      "execution_count": 17,
      "outputs": [
        {
          "output_type": "execute_result",
          "data": {
            "text/plain": [
              "998"
            ]
          },
          "metadata": {
            "tags": []
          },
          "execution_count": 17
        }
      ]
    },
    {
      "cell_type": "markdown",
      "metadata": {
        "id": "qiPHZTpX8RM1"
      },
      "source": [
        "## 建立 CNN 模型"
      ]
    },
    {
      "cell_type": "code",
      "metadata": {
        "id": "g48G_KPlv1El"
      },
      "source": [
        "characters = '0123456789abcdefghijklmnopqrstuvwxyz'\n",
        "# Captcha生成圖像的寬高、用幾個字母來組成字串及會用到的字母數\n",
        "width, height, n_len, n_class = 135, 47, 4, 36"
      ],
      "execution_count": 19,
      "outputs": []
    },
    {
      "cell_type": "code",
      "metadata": {
        "colab": {
          "base_uri": "https://localhost:8080/"
        },
        "id": "VTl4Jiq1woL-",
        "outputId": "b9108c2a-dcde-4a09-de9b-902ac744727c"
      },
      "source": [
        "import tensorflow as tf\n",
        "from tensorflow.keras.models import *\n",
        "from tensorflow.keras.layers import Input, Conv2D, MaxPooling2D, Flatten, Dropout, Dense\n",
        "\n",
        "input_tensor = Input((height, width, 3))\n",
        "\n",
        "x = input_tensor\n",
        "\n",
        "#  模仿 VGG  架構模型\n",
        "x = Conv2D(64, (3, 3), activation='relu')(x)\n",
        "x = Conv2D(64, (3, 3), activation='relu')(x)\n",
        "x = MaxPooling2D((2, 2))(x)\n",
        "\n",
        "x = Conv2D(128, (3, 3), activation='relu')(x)\n",
        "x = Conv2D(128, (3, 3), activation='relu')(x)\n",
        "x = MaxPooling2D((2, 2))(x) \n",
        "\n",
        "x = Conv2D(256, (3, 3), activation='relu')(x)\n",
        "x = Conv2D(256, (3, 3), activation='relu')(x)\n",
        "x = MaxPooling2D((2, 2))(x) \n",
        "\n",
        "x = Flatten()(x)\n",
        "x = Dropout(0.25)(x)\n",
        "\n",
        "x = [Dense(n_class, activation='softmax', name='c%d'%(i+1))(x) for i in range(4)]\n",
        "\n",
        "model = Model(inputs=input_tensor, outputs=x)\n",
        "\n",
        "model.summary()\n",
        "\n",
        "model.compile(loss='categorical_crossentropy',\n",
        "              optimizer='adam',\n",
        "              metrics=['accuracy'])"
      ],
      "execution_count": 90,
      "outputs": [
        {
          "output_type": "stream",
          "text": [
            "Model: \"model_1\"\n",
            "__________________________________________________________________________________________________\n",
            "Layer (type)                    Output Shape         Param #     Connected to                     \n",
            "==================================================================================================\n",
            "input_3 (InputLayer)            [(None, 47, 135, 3)] 0                                            \n",
            "__________________________________________________________________________________________________\n",
            "conv2d_12 (Conv2D)              (None, 45, 133, 64)  1792        input_3[0][0]                    \n",
            "__________________________________________________________________________________________________\n",
            "conv2d_13 (Conv2D)              (None, 43, 131, 64)  36928       conv2d_12[0][0]                  \n",
            "__________________________________________________________________________________________________\n",
            "max_pooling2d_6 (MaxPooling2D)  (None, 21, 65, 64)   0           conv2d_13[0][0]                  \n",
            "__________________________________________________________________________________________________\n",
            "conv2d_14 (Conv2D)              (None, 19, 63, 128)  73856       max_pooling2d_6[0][0]            \n",
            "__________________________________________________________________________________________________\n",
            "conv2d_15 (Conv2D)              (None, 17, 61, 128)  147584      conv2d_14[0][0]                  \n",
            "__________________________________________________________________________________________________\n",
            "max_pooling2d_7 (MaxPooling2D)  (None, 8, 30, 128)   0           conv2d_15[0][0]                  \n",
            "__________________________________________________________________________________________________\n",
            "conv2d_16 (Conv2D)              (None, 6, 28, 256)   295168      max_pooling2d_7[0][0]            \n",
            "__________________________________________________________________________________________________\n",
            "conv2d_17 (Conv2D)              (None, 4, 26, 256)   590080      conv2d_16[0][0]                  \n",
            "__________________________________________________________________________________________________\n",
            "max_pooling2d_8 (MaxPooling2D)  (None, 2, 13, 256)   0           conv2d_17[0][0]                  \n",
            "__________________________________________________________________________________________________\n",
            "flatten_2 (Flatten)             (None, 6656)         0           max_pooling2d_8[0][0]            \n",
            "__________________________________________________________________________________________________\n",
            "dropout_2 (Dropout)             (None, 6656)         0           flatten_2[0][0]                  \n",
            "__________________________________________________________________________________________________\n",
            "c1 (Dense)                      (None, 36)           239652      dropout_2[0][0]                  \n",
            "__________________________________________________________________________________________________\n",
            "c2 (Dense)                      (None, 36)           239652      dropout_2[0][0]                  \n",
            "__________________________________________________________________________________________________\n",
            "c3 (Dense)                      (None, 36)           239652      dropout_2[0][0]                  \n",
            "__________________________________________________________________________________________________\n",
            "c4 (Dense)                      (None, 36)           239652      dropout_2[0][0]                  \n",
            "==================================================================================================\n",
            "Total params: 2,104,016\n",
            "Trainable params: 2,104,016\n",
            "Non-trainable params: 0\n",
            "__________________________________________________________________________________________________\n"
          ],
          "name": "stdout"
        }
      ]
    },
    {
      "cell_type": "markdown",
      "metadata": {
        "id": "G2XfSloU8pnz"
      },
      "source": [
        "## 訓練模型"
      ]
    },
    {
      "cell_type": "code",
      "metadata": {
        "id": "yKvs4K1AyT1C"
      },
      "source": [
        "import os \n",
        "os.mkdir('trainset')"
      ],
      "execution_count": 26,
      "outputs": []
    },
    {
      "cell_type": "code",
      "metadata": {
        "id": "YQxEd52NzFiE"
      },
      "source": [
        "import numpy as np\n",
        "X = np.zeros((len(df), height, width, 3), dtype=np.float32)\n",
        "y = [np.zeros((len(df), n_class), dtype=np.uint8) for i in range(n_len)]"
      ],
      "execution_count": 28,
      "outputs": []
    },
    {
      "cell_type": "code",
      "metadata": {
        "colab": {
          "base_uri": "https://localhost:8080/"
        },
        "id": "S7O-UKoUzIsM",
        "outputId": "9c5420ce-627f-406e-8cf3-63c17624c440"
      },
      "source": [
        "X.shape"
      ],
      "execution_count": 29,
      "outputs": [
        {
          "output_type": "execute_result",
          "data": {
            "text/plain": [
              "(998, 47, 135, 3)"
            ]
          },
          "metadata": {
            "tags": []
          },
          "execution_count": 29
        }
      ]
    },
    {
      "cell_type": "code",
      "metadata": {
        "colab": {
          "base_uri": "https://localhost:8080/"
        },
        "id": "E2tYD1QFzVYS",
        "outputId": "9f0d1569-85e5-4233-f770-7c394a81b7a9"
      },
      "source": [
        "len(y)\n",
        "y[0].shape"
      ],
      "execution_count": 32,
      "outputs": [
        {
          "output_type": "execute_result",
          "data": {
            "text/plain": [
              "(998, 36)"
            ]
          },
          "metadata": {
            "tags": []
          },
          "execution_count": 32
        }
      ]
    },
    {
      "cell_type": "code",
      "metadata": {
        "id": "6hWdEGgwz-pc"
      },
      "source": [
        "df.reset_index(drop = 'index', inplace=True)"
      ],
      "execution_count": 38,
      "outputs": []
    },
    {
      "cell_type": "code",
      "metadata": {
        "id": "OYRSwXfxy7U7"
      },
      "source": [
        "for i in df.index:\n",
        "    random_str = df.loc[i,'captcua']\n",
        "    fname = df.loc[i,'file']\n",
        "    f1 = Image.open(fname)\n",
        "    f1 = f1.resize((width, height))\n",
        "    f = np.array(f1)\n",
        "    #print(f.shape)\n",
        "    #f.resize(height,width)\n",
        "    #print(f)\n",
        "    X[i] = f * 1.0 / 255.0\n",
        "    for j, ch in enumerate(random_str):\n",
        "        y[j][i, :] = 0\n",
        "        y[j][i, characters.find(ch)] = 1"
      ],
      "execution_count": 39,
      "outputs": []
    },
    {
      "cell_type": "code",
      "metadata": {
        "colab": {
          "base_uri": "https://localhost:8080/"
        },
        "id": "dFTUYpmrzyzd",
        "outputId": "4e5ad48e-e2d1-442f-8c0e-6d2b1eb28f13"
      },
      "source": [
        "X[0].shape"
      ],
      "execution_count": 41,
      "outputs": [
        {
          "output_type": "execute_result",
          "data": {
            "text/plain": [
              "(47, 135, 3)"
            ]
          },
          "metadata": {
            "tags": []
          },
          "execution_count": 41
        }
      ]
    },
    {
      "cell_type": "code",
      "metadata": {
        "colab": {
          "base_uri": "https://localhost:8080/"
        },
        "id": "PNUC08ZF0P_b",
        "outputId": "8c5e6118-c7a9-42bd-be7a-a0884e202f42"
      },
      "source": [
        "y[0][0]"
      ],
      "execution_count": 43,
      "outputs": [
        {
          "output_type": "execute_result",
          "data": {
            "text/plain": [
              "array([0, 0, 0, 0, 1, 0, 0, 0, 0, 0, 0, 0, 0, 0, 0, 0, 0, 0, 0, 0, 0, 0,\n",
              "       0, 0, 0, 0, 0, 0, 0, 0, 0, 0, 0, 0, 0, 0], dtype=uint8)"
            ]
          },
          "metadata": {
            "tags": []
          },
          "execution_count": 43
        }
      ]
    },
    {
      "cell_type": "code",
      "metadata": {
        "id": "YWAFymOD0VxK"
      },
      "source": [
        "import random\n",
        "def gen(batch_size=32):\n",
        "    X = np.zeros((batch_size, height, width, 3), dtype=np.float32)\n",
        "    y = [np.zeros((batch_size, n_class), dtype=np.uint8) for i in range(n_len)]\n",
        "    while True:\n",
        "        \n",
        "        for i in range(batch_size):\n",
        "            rand_index = random.choice(df.index)\n",
        "            random_str = df.loc[rand_index,'captcua']\n",
        "            fname = df.loc[rand_index,'file']\n",
        "            f1 = Image.open(fname)\n",
        "            f1 = f1.resize((width, height))\n",
        "            f = np.array(f1)\n",
        "            X[i] = f / 255.0\n",
        "            for j, ch in enumerate(random_str):\n",
        "                y[j][i, :] = 0\n",
        "                y[j][i, characters.find(ch)] = 1\n",
        "        yield X, y"
      ],
      "execution_count": 48,
      "outputs": []
    },
    {
      "cell_type": "code",
      "metadata": {
        "colab": {
          "base_uri": "https://localhost:8080/"
        },
        "id": "epbI7TwN1gJq",
        "outputId": "9ecad047-2732-4798-f1cc-2d4224571fe3"
      },
      "source": [
        "for x,y in gen(batch_size = 32):\n",
        "  print(x.shape)\n",
        "  print(len(y))\n",
        "  break"
      ],
      "execution_count": 50,
      "outputs": [
        {
          "output_type": "stream",
          "text": [
            "(32, 47, 135, 3)\n",
            "4\n"
          ],
          "name": "stdout"
        }
      ]
    },
    {
      "cell_type": "code",
      "metadata": {
        "id": "ETM2HkLu1oIY"
      },
      "source": [
        "from tensorflow.keras import callbacks\n",
        "cbks = [callbacks.ModelCheckpoint(\"best_model.h5\", save_best_only=True)]\n",
        "\n",
        "history = model.fit_generator(gen(batch_size=32),      # 每次生成器會產生32筆小批量的資料\n",
        "                    epochs=20,                          # 總共跑20個訓練循環\n",
        "                    steps_per_epoch=1000,     # 每個epoch 產生1000 組batch\n",
        "                    #callbacks=cbks,          # 保存最好的模型到檔案\n",
        "                    validation_data=gen(),   # 驗證資料也是用生成器來產生\n",
        "                    validation_steps=40      # 用40組資料來驗證\n",
        "                   )"
      ],
      "execution_count": null,
      "outputs": []
    },
    {
      "cell_type": "markdown",
      "metadata": {
        "id": "QuLL46Xn9fmL"
      },
      "source": [
        "## 測試模型"
      ]
    },
    {
      "cell_type": "code",
      "metadata": {
        "id": "Oej7jEks2SBF"
      },
      "source": [
        "img = Image.open('data/567.jpg')"
      ],
      "execution_count": 78,
      "outputs": []
    },
    {
      "cell_type": "code",
      "metadata": {
        "colab": {
          "base_uri": "https://localhost:8080/",
          "height": 64
        },
        "id": "ZiVqMfPQ4zIW",
        "outputId": "ac43fc01-198f-4911-96e1-90a58e76fdf5"
      },
      "source": [
        "img"
      ],
      "execution_count": 89,
      "outputs": [
        {
          "output_type": "execute_result",
          "data": {
            "image/png": "[encoded data removed]",
            "text/plain": [
              "<PIL.JpegImagePlugin.JpegImageFile image mode=RGB size=121x47 at 0x7F7008244978>"
            ]
          },
          "metadata": {
            "tags": []
          },
          "execution_count": 89
        }
      ]
    },
    {
      "cell_type": "code",
      "metadata": {
        "colab": {
          "base_uri": "https://localhost:8080/"
        },
        "id": "Q7Dk69Sh4AjS",
        "outputId": "55b3f4a0-8f74-4484-c03f-f650f1580470"
      },
      "source": [
        "img.size"
      ],
      "execution_count": 79,
      "outputs": [
        {
          "output_type": "execute_result",
          "data": {
            "text/plain": [
              "(121, 47)"
            ]
          },
          "metadata": {
            "tags": []
          },
          "execution_count": 79
        }
      ]
    },
    {
      "cell_type": "code",
      "metadata": {
        "colab": {
          "base_uri": "https://localhost:8080/"
        },
        "id": "roo1e8P74Ckc",
        "outputId": "755be382-7c7a-4bf6-b956-22e54024f071"
      },
      "source": [
        "width"
      ],
      "execution_count": 80,
      "outputs": [
        {
          "output_type": "execute_result",
          "data": {
            "text/plain": [
              "135"
            ]
          },
          "metadata": {
            "tags": []
          },
          "execution_count": 80
        }
      ]
    },
    {
      "cell_type": "code",
      "metadata": {
        "id": "ko38xmsl3UiA"
      },
      "source": [
        "X1 = np.array(img.resize((width, height)))\n",
        "X1 = X1 * 1.0 / 255.0"
      ],
      "execution_count": 81,
      "outputs": []
    },
    {
      "cell_type": "code",
      "metadata": {
        "colab": {
          "base_uri": "https://localhost:8080/"
        },
        "id": "YCbfrmyc4GaX",
        "outputId": "fca244df-85a9-44f8-cbf1-e5a374a0cdb5"
      },
      "source": [
        "X1.shape"
      ],
      "execution_count": 82,
      "outputs": [
        {
          "output_type": "execute_result",
          "data": {
            "text/plain": [
              "(47, 135, 3)"
            ]
          },
          "metadata": {
            "tags": []
          },
          "execution_count": 82
        }
      ]
    },
    {
      "cell_type": "code",
      "metadata": {
        "id": "NE1hdAkU3kQq"
      },
      "source": [
        "X1 = X1.reshape((1, height, width, 3))"
      ],
      "execution_count": 83,
      "outputs": []
    },
    {
      "cell_type": "code",
      "metadata": {
        "colab": {
          "base_uri": "https://localhost:8080/"
        },
        "id": "MgxZtWGJ3k6y",
        "outputId": "6ce30d68-9f9f-4ee4-bf2a-589e3fe58c78"
      },
      "source": [
        "X1.shape"
      ],
      "execution_count": 84,
      "outputs": [
        {
          "output_type": "execute_result",
          "data": {
            "text/plain": [
              "(1, 47, 135, 3)"
            ]
          },
          "metadata": {
            "tags": []
          },
          "execution_count": 84
        }
      ]
    },
    {
      "cell_type": "code",
      "metadata": {
        "colab": {
          "base_uri": "https://localhost:8080/"
        },
        "id": "0tcxskdF3uMx",
        "outputId": "eb1f271c-04bc-410b-c19c-2c770e98d2d8"
      },
      "source": [
        "[np.argmax(e) for e in model.predict(X1)]"
      ],
      "execution_count": 86,
      "outputs": [
        {
          "output_type": "execute_result",
          "data": {
            "text/plain": [
              "[35, 4, 29, 15]"
            ]
          },
          "metadata": {
            "tags": []
          },
          "execution_count": 86
        }
      ]
    },
    {
      "cell_type": "code",
      "metadata": {
        "colab": {
          "base_uri": "https://localhost:8080/"
        },
        "id": "g486Dx4w31tu",
        "outputId": "e46604f8-d5e0-4723-975d-44533982f55a"
      },
      "source": [
        "characters = '0123456789abcdefghijklmnopqrstuvwxyz'\n",
        "[characters[np.argmax(e)] for e in model.predict(X1)]"
      ],
      "execution_count": 88,
      "outputs": [
        {
          "output_type": "execute_result",
          "data": {
            "text/plain": [
              "['z', '4', 't', 'f']"
            ]
          },
          "metadata": {
            "tags": []
          },
          "execution_count": 88
        }
      ]
    },
    {
      "cell_type": "code",
      "metadata": {
        "id": "ldeHF-gr4tQX"
      },
      "source": [
        ""
      ],
      "execution_count": null,
      "outputs": []
    }
  ]
}